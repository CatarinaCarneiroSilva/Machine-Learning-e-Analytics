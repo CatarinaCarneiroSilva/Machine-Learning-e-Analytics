{
  "cells": [
    {
      "cell_type": "markdown",
      "metadata": {
        "id": "view-in-github",
        "colab_type": "text"
      },
      "source": [
        "<a href=\"https://colab.research.google.com/github/CatarinaCarneiroSilva/Machine-Learning-e-Analytics/blob/main/MVP_Machine_Learning_Catarina_Carneiro.ipynb\" target=\"_parent\"><img src=\"https://colab.research.google.com/assets/colab-badge.svg\" alt=\"Open In Colab\"/></a>"
      ]
    },
    {
      "cell_type": "markdown",
      "metadata": {
        "id": "otEdveLq8Hn0"
      },
      "source": [
        "# MVP de Machine Learning & Analytics\n",
        "\n",
        "## Catarina Carneiro da Silva"
      ]
    },
    {
      "cell_type": "markdown",
      "metadata": {
        "id": "z1PEQEdZ9zm4"
      },
      "source": [
        "## 1. Definição do Problema"
      ]
    },
    {
      "cell_type": "markdown",
      "metadata": {
        "id": "HDcdO4yx9db6"
      },
      "source": [
        "Neste estudo queremos analisar a influência do gênero de um funcionário nas atividades do mercado de trabalho, com foco no setor terciário (comércio, serviços e turismo). Selecionamos os dados do Mato Grosso do Sul, para trabalhar com um dataset menor.\n",
        "**No problema sugerido, usaremos o método de classificação para saber se a inclusão de novas informações serão suficientes para definir o gênero do novo usuário.**\n",
        "A premissa conhecida é que as mulheres possuem estruturalmente salários menores que os homens, além de terem profissões preponderamentemente masculinas e outras femininas, a intenção é refutar ou não essa hipótese baseados em dados reais.\n",
        "\n",
        "O dataset usado neste projeto são os microdados da **RAIS 2022 (Relação Anual de Informações Sociais)**, proveniente do Ministério do Trabalho.\n",
        "Essa base de informações é muito abrangente, podendo originar diversas inferências. No entanto, para ter resultado mais objetivo com o desejado, utilizaremos um subconjunto da base original, considerando apenas algumas variáveis disponíveis, que são:\n",
        "\n",
        "**Informações sobre os atributos:**\n",
        "1. **CNAE 2.0** - CNAE da atividade do emprego\n",
        "2. **Faixa Etária** - Faixa de idade do funcionário:\n",
        "  1. entre 10 a 14 anos\n",
        "  2. entre 15 a 17 anos\n",
        "  3. entre 18 a 24\tanos\n",
        "  4. entre 25 a 29\tanos\n",
        "  5. entre 30 a 39\tanos\n",
        "  6. entre 40 a 49\tanos\n",
        "  7. entre 50 a 64 anos\n",
        "  8. 65 anos ou mais\n",
        "3. **Escoladidade após 2005** - Escolaridade do funcionário:\n",
        " 1. Analfabeto\n",
        " 2. Até 5ª Incompleto\n",
        " 3. 5ª Completo Fundamental\n",
        " 4. 6ª a 9ª Fundamental\n",
        " 5. Fundamental Completo\n",
        " 6. Médio Incompleto\n",
        " 7. Médio Completo\n",
        " 8. Superior Incompleto\n",
        " 9. Superior Completo\n",
        " 10. Mestrado\n",
        " 11. Doutorado\n",
        "4. **Idade** - Idade do funcionário\n",
        "5. **Raça Cor** - Raça segundo funcionário:\n",
        " 1. Indígena / 2. Branca / 4. Preta / 6. Amarela / 8. Parda / 9. Não informado\n",
        "6. **Sexo Trabalhador** - Gênero do usuário:\n",
        "  1. Masculino / 2. Feminino / 9. Ignorado\n",
        "7. **UF** - Estado 50 = Mato Grosso do Sul\n",
        "8. **valor_remuneração_media** - Remuneração média dos funcionários"
      ]
    },
    {
      "cell_type": "code",
      "execution_count": 27,
      "metadata": {
        "id": "RCn8CH4M7wF-"
      },
      "outputs": [],
      "source": [
        "# Imports\n",
        "import pandas as pd\n",
        "import numpy as np\n",
        "import matplotlib.pyplot as plt\n",
        "from sklearn.preprocessing import StandardScaler\n",
        "from sklearn.preprocessing import MinMaxScaler\n",
        "from sklearn.model_selection import train_test_split\n",
        "from sklearn.model_selection import KFold\n",
        "from sklearn.model_selection import StratifiedKFold\n",
        "from sklearn.model_selection import cross_val_score\n",
        "from sklearn.model_selection import GridSearchCV\n",
        "from sklearn.metrics import accuracy_score\n",
        "from sklearn.pipeline import Pipeline\n",
        "from sklearn.linear_model import LogisticRegression\n",
        "from sklearn.tree import DecisionTreeClassifier\n",
        "from sklearn.neighbors import KNeighborsClassifier\n",
        "from sklearn.naive_bayes import GaussianNB\n",
        "from sklearn.svm import SVC\n",
        "from sklearn.ensemble import BaggingClassifier\n",
        "from sklearn.ensemble import RandomForestClassifier\n",
        "from sklearn.ensemble import ExtraTreesClassifier\n",
        "from sklearn.ensemble import VotingClassifier\n",
        "from sklearn.ensemble import AdaBoostClassifier\n",
        "from sklearn.ensemble import GradientBoostingClassifier\n",
        "from sklearn.ensemble import GradientBoostingRegressor"
      ]
    },
    {
      "cell_type": "code",
      "execution_count": null,
      "metadata": {
        "id": "dJpWLh52-aPE"
      },
      "outputs": [],
      "source": [
        "# configuração para não exibir os warnings\n",
        "import warnings\n",
        "warnings.filterwarnings(\"ignore\")"
      ]
    },
    {
      "cell_type": "markdown",
      "metadata": {
        "id": "2PcB0Efd-MS4"
      },
      "source": [
        "## 2. Preparação de Dados"
      ]
    },
    {
      "cell_type": "markdown",
      "metadata": {
        "id": "rmHBahfF-cJL"
      },
      "source": [
        "Usaremos o pacote Pandas (Python Data Analysis Library) para carregar o arquivo .csv elaborado com os microdados necessários.\n"
      ]
    },
    {
      "cell_type": "code",
      "execution_count": null,
      "metadata": {
        "colab": {
          "base_uri": "https://localhost:8080/"
        },
        "id": "29AFuCPtvG_i",
        "outputId": "85bcd8cf-9be7-42ab-8d16-ac2052254541"
      },
      "outputs": [
        {
          "output_type": "stream",
          "name": "stdout",
          "text": [
            "   CNAE 2.0 Classe  Faixa Etária  Escolaridade após 2005  Idade  Raça Cor  \\\n",
            "0            94120             7                       1     61         8   \n",
            "1            84116             5                       1     30        99   \n",
            "2            84116             5                       1     31        99   \n",
            "3            84116             4                       1     28        99   \n",
            "4            84116             8                       1     69        99   \n",
            "\n",
            "   Sexo Trabalhador  uf  valor_remuneracao_media  \n",
            "0                 1  50                  2014.00  \n",
            "1                 1  50                  1116.52  \n",
            "2                 1  50                  1091.70  \n",
            "3                 1  50                  1091.70  \n",
            "4                 1  50                  2075.62  \n"
          ]
        }
      ],
      "source": [
        "# Carrega arquivo csv\n",
        "url = \"https://raw.githubusercontent.com/CatarinaCarneiroSilva/Machine-Learning-e-Analytics/main/rais2002_cat_uf50.csv\"\n",
        "rais2022 = pd.read_csv(url,delimiter=';')\n",
        "print(rais2022.head())\n"
      ]
    },
    {
      "cell_type": "markdown",
      "metadata": {
        "id": "sjG6TGTNRYVl"
      },
      "source": [
        "Como todos os dados são pertencentes a mesma UF, deletaremos essa coluna. Também retiraremos a coluna Faixa Etária, já que o dado mais específico pode ser encontrado na coluna Idade.\n",
        "Para trabalhar apenas o setor terciário, como pretendido, filtraremos a coluna CNAE 2.0 Classe para conter apenas as CNAES desse setor.\n",
        "Para limpar o dataset, excluiremos os dados de gênero que não correspondem ao sexo Feminino ou Masculino e também da coluna Raça Cor informações diferentes das tradicionais."
      ]
    },
    {
      "cell_type": "code",
      "execution_count": null,
      "metadata": {
        "colab": {
          "base_uri": "https://localhost:8080/"
        },
        "id": "o211D-rgRvtW",
        "outputId": "b5f4172c-36a9-46fc-c118-7608115e2e91"
      },
      "outputs": [
        {
          "output_type": "stream",
          "name": "stdout",
          "text": [
            "   CNAE 2.0 Classe  Escolaridade após 2005  Idade  Raça Cor  Sexo Trabalhador  \\\n",
            "0            94120                       1     61         8                 1   \n",
            "1            84116                       1     30        99                 1   \n",
            "2            84116                       1     31        99                 1   \n",
            "3            84116                       1     28        99                 1   \n",
            "4            84116                       1     69        99                 1   \n",
            "\n",
            "   valor_remuneracao_media  \n",
            "0                  2014.00  \n",
            "1                  1116.52  \n",
            "2                  1091.70  \n",
            "3                  1091.70  \n",
            "4                  2075.62  \n"
          ]
        }
      ],
      "source": [
        "# Deletar coluna UF e Faixa Etária\n",
        "del rais2022['uf']\n",
        "del rais2022['Faixa Etária']\n",
        "\n",
        "print(rais2022.head())"
      ]
    },
    {
      "cell_type": "code",
      "execution_count": null,
      "metadata": {
        "colab": {
          "base_uri": "https://localhost:8080/"
        },
        "id": "H4CByoutUSq7",
        "outputId": "f69460ac-547a-4330-f5da-2cf5f36f05d6"
      },
      "outputs": [
        {
          "output_type": "stream",
          "name": "stdout",
          "text": [
            "    CNAE 2.0 Classe  Escolaridade após 2005  Idade  Raça Cor  \\\n",
            "18            49302                       1     46         8   \n",
            "27            56112                       1     57         9   \n",
            "28            55108                       1     32         2   \n",
            "30            49213                       1     44         2   \n",
            "36            47296                       1     29         8   \n",
            "\n",
            "    Sexo Trabalhador  valor_remuneracao_media  \n",
            "18                 1                  1450.00  \n",
            "27                 1                     0.00  \n",
            "28                 1                  1506.91  \n",
            "30                 1                     0.00  \n",
            "36                 1                  1978.38  \n"
          ]
        }
      ],
      "source": [
        "# Filtrar coluna CNAE 2.0 Classe e Sexo Trabalhador\n",
        "rais2022 = rais2022[(rais2022['CNAE 2.0 Classe'] >= 45111) & (rais2022['CNAE 2.0 Classe'] <= 69206)]\n",
        "rais2022 = rais2022[(rais2022['Sexo Trabalhador'] == 1) | (rais2022['Sexo Trabalhador'] == 2)]\n",
        "rais2022 = rais2022[(rais2022['Raça Cor'] <= 9)]\n",
        "\n",
        "print(rais2022.head())"
      ]
    },
    {
      "cell_type": "markdown",
      "metadata": {
        "id": "bqINv-wo_Xfe"
      },
      "source": [
        "### 2.1. Estatísticas Descritivas\n",
        "\n",
        "Inicialmente examinaremos as dimensões do dataset, suas principais informações e alguns exemplos de linhas para sabermos como os dados estão se comportando. Assim, percebemos que todas as variáveis são numerais, com a receita podendo conter decimais."
      ]
    },
    {
      "cell_type": "code",
      "execution_count": null,
      "metadata": {
        "colab": {
          "base_uri": "https://localhost:8080/"
        },
        "id": "zF3f00Zl_g7j",
        "outputId": "306ef9b0-2143-425e-f888-4b84bb8d7fe5"
      },
      "outputs": [
        {
          "output_type": "stream",
          "name": "stdout",
          "text": [
            "(238311, 6)\n"
          ]
        }
      ],
      "source": [
        "# Mostra as dimensões do dataset\n",
        "print(rais2022.shape)"
      ]
    },
    {
      "cell_type": "code",
      "execution_count": null,
      "metadata": {
        "colab": {
          "base_uri": "https://localhost:8080/"
        },
        "id": "UUjmUTEOwQZt",
        "outputId": "d5851bd9-181d-40d8-bfec-1925386e8c04"
      },
      "outputs": [
        {
          "output_type": "stream",
          "name": "stdout",
          "text": [
            "<class 'pandas.core.frame.DataFrame'>\n",
            "Index: 238311 entries, 18 to 778489\n",
            "Data columns (total 6 columns):\n",
            " #   Column                   Non-Null Count   Dtype  \n",
            "---  ------                   --------------   -----  \n",
            " 0   CNAE 2.0 Classe          238311 non-null  int64  \n",
            " 1   Escolaridade após 2005   238311 non-null  int64  \n",
            " 2   Idade                    238311 non-null  int64  \n",
            " 3   Raça Cor                 238311 non-null  int64  \n",
            " 4   Sexo Trabalhador         238311 non-null  int64  \n",
            " 5   valor_remuneracao_media  238311 non-null  float64\n",
            "dtypes: float64(1), int64(5)\n",
            "memory usage: 12.7 MB\n",
            "None\n"
          ]
        }
      ],
      "source": [
        "# Mostra as informações do dataset\n",
        "print(rais2022.info())"
      ]
    },
    {
      "cell_type": "code",
      "execution_count": null,
      "metadata": {
        "colab": {
          "base_uri": "https://localhost:8080/",
          "height": 363
        },
        "id": "yPy9N4FuwX6H",
        "outputId": "2a74e8cb-ad04-4619-a548-a296620fba39"
      },
      "outputs": [
        {
          "output_type": "execute_result",
          "data": {
            "text/plain": [
              "    CNAE 2.0 Classe  Escolaridade após 2005  Idade  Raça Cor  \\\n",
              "18            49302                       1     46         8   \n",
              "27            56112                       1     57         9   \n",
              "28            55108                       1     32         2   \n",
              "30            49213                       1     44         2   \n",
              "36            47296                       1     29         8   \n",
              "38            47113                       1     47         2   \n",
              "41            47440                       1     55         9   \n",
              "46            47440                       1     57         6   \n",
              "51            49248                       1     49         1   \n",
              "59            45307                       1     56         8   \n",
              "\n",
              "    Sexo Trabalhador  valor_remuneracao_media  \n",
              "18                 1                  1450.00  \n",
              "27                 1                     0.00  \n",
              "28                 1                  1506.91  \n",
              "30                 1                     0.00  \n",
              "36                 1                  1978.38  \n",
              "38                 1                     0.00  \n",
              "41                 1                     0.00  \n",
              "46                 1                  1212.00  \n",
              "51                 1                     0.00  \n",
              "59                 1                  1782.22  "
            ],
            "text/html": [
              "\n",
              "  <div id=\"df-22eb3041-ffca-4491-b24c-9b82c1c0fa0c\" class=\"colab-df-container\">\n",
              "    <div>\n",
              "<style scoped>\n",
              "    .dataframe tbody tr th:only-of-type {\n",
              "        vertical-align: middle;\n",
              "    }\n",
              "\n",
              "    .dataframe tbody tr th {\n",
              "        vertical-align: top;\n",
              "    }\n",
              "\n",
              "    .dataframe thead th {\n",
              "        text-align: right;\n",
              "    }\n",
              "</style>\n",
              "<table border=\"1\" class=\"dataframe\">\n",
              "  <thead>\n",
              "    <tr style=\"text-align: right;\">\n",
              "      <th></th>\n",
              "      <th>CNAE 2.0 Classe</th>\n",
              "      <th>Escolaridade após 2005</th>\n",
              "      <th>Idade</th>\n",
              "      <th>Raça Cor</th>\n",
              "      <th>Sexo Trabalhador</th>\n",
              "      <th>valor_remuneracao_media</th>\n",
              "    </tr>\n",
              "  </thead>\n",
              "  <tbody>\n",
              "    <tr>\n",
              "      <th>18</th>\n",
              "      <td>49302</td>\n",
              "      <td>1</td>\n",
              "      <td>46</td>\n",
              "      <td>8</td>\n",
              "      <td>1</td>\n",
              "      <td>1450.00</td>\n",
              "    </tr>\n",
              "    <tr>\n",
              "      <th>27</th>\n",
              "      <td>56112</td>\n",
              "      <td>1</td>\n",
              "      <td>57</td>\n",
              "      <td>9</td>\n",
              "      <td>1</td>\n",
              "      <td>0.00</td>\n",
              "    </tr>\n",
              "    <tr>\n",
              "      <th>28</th>\n",
              "      <td>55108</td>\n",
              "      <td>1</td>\n",
              "      <td>32</td>\n",
              "      <td>2</td>\n",
              "      <td>1</td>\n",
              "      <td>1506.91</td>\n",
              "    </tr>\n",
              "    <tr>\n",
              "      <th>30</th>\n",
              "      <td>49213</td>\n",
              "      <td>1</td>\n",
              "      <td>44</td>\n",
              "      <td>2</td>\n",
              "      <td>1</td>\n",
              "      <td>0.00</td>\n",
              "    </tr>\n",
              "    <tr>\n",
              "      <th>36</th>\n",
              "      <td>47296</td>\n",
              "      <td>1</td>\n",
              "      <td>29</td>\n",
              "      <td>8</td>\n",
              "      <td>1</td>\n",
              "      <td>1978.38</td>\n",
              "    </tr>\n",
              "    <tr>\n",
              "      <th>38</th>\n",
              "      <td>47113</td>\n",
              "      <td>1</td>\n",
              "      <td>47</td>\n",
              "      <td>2</td>\n",
              "      <td>1</td>\n",
              "      <td>0.00</td>\n",
              "    </tr>\n",
              "    <tr>\n",
              "      <th>41</th>\n",
              "      <td>47440</td>\n",
              "      <td>1</td>\n",
              "      <td>55</td>\n",
              "      <td>9</td>\n",
              "      <td>1</td>\n",
              "      <td>0.00</td>\n",
              "    </tr>\n",
              "    <tr>\n",
              "      <th>46</th>\n",
              "      <td>47440</td>\n",
              "      <td>1</td>\n",
              "      <td>57</td>\n",
              "      <td>6</td>\n",
              "      <td>1</td>\n",
              "      <td>1212.00</td>\n",
              "    </tr>\n",
              "    <tr>\n",
              "      <th>51</th>\n",
              "      <td>49248</td>\n",
              "      <td>1</td>\n",
              "      <td>49</td>\n",
              "      <td>1</td>\n",
              "      <td>1</td>\n",
              "      <td>0.00</td>\n",
              "    </tr>\n",
              "    <tr>\n",
              "      <th>59</th>\n",
              "      <td>45307</td>\n",
              "      <td>1</td>\n",
              "      <td>56</td>\n",
              "      <td>8</td>\n",
              "      <td>1</td>\n",
              "      <td>1782.22</td>\n",
              "    </tr>\n",
              "  </tbody>\n",
              "</table>\n",
              "</div>\n",
              "    <div class=\"colab-df-buttons\">\n",
              "\n",
              "  <div class=\"colab-df-container\">\n",
              "    <button class=\"colab-df-convert\" onclick=\"convertToInteractive('df-22eb3041-ffca-4491-b24c-9b82c1c0fa0c')\"\n",
              "            title=\"Convert this dataframe to an interactive table.\"\n",
              "            style=\"display:none;\">\n",
              "\n",
              "  <svg xmlns=\"http://www.w3.org/2000/svg\" height=\"24px\" viewBox=\"0 -960 960 960\">\n",
              "    <path d=\"M120-120v-720h720v720H120Zm60-500h600v-160H180v160Zm220 220h160v-160H400v160Zm0 220h160v-160H400v160ZM180-400h160v-160H180v160Zm440 0h160v-160H620v160ZM180-180h160v-160H180v160Zm440 0h160v-160H620v160Z\"/>\n",
              "  </svg>\n",
              "    </button>\n",
              "\n",
              "  <style>\n",
              "    .colab-df-container {\n",
              "      display:flex;\n",
              "      gap: 12px;\n",
              "    }\n",
              "\n",
              "    .colab-df-convert {\n",
              "      background-color: #E8F0FE;\n",
              "      border: none;\n",
              "      border-radius: 50%;\n",
              "      cursor: pointer;\n",
              "      display: none;\n",
              "      fill: #1967D2;\n",
              "      height: 32px;\n",
              "      padding: 0 0 0 0;\n",
              "      width: 32px;\n",
              "    }\n",
              "\n",
              "    .colab-df-convert:hover {\n",
              "      background-color: #E2EBFA;\n",
              "      box-shadow: 0px 1px 2px rgba(60, 64, 67, 0.3), 0px 1px 3px 1px rgba(60, 64, 67, 0.15);\n",
              "      fill: #174EA6;\n",
              "    }\n",
              "\n",
              "    .colab-df-buttons div {\n",
              "      margin-bottom: 4px;\n",
              "    }\n",
              "\n",
              "    [theme=dark] .colab-df-convert {\n",
              "      background-color: #3B4455;\n",
              "      fill: #D2E3FC;\n",
              "    }\n",
              "\n",
              "    [theme=dark] .colab-df-convert:hover {\n",
              "      background-color: #434B5C;\n",
              "      box-shadow: 0px 1px 3px 1px rgba(0, 0, 0, 0.15);\n",
              "      filter: drop-shadow(0px 1px 2px rgba(0, 0, 0, 0.3));\n",
              "      fill: #FFFFFF;\n",
              "    }\n",
              "  </style>\n",
              "\n",
              "    <script>\n",
              "      const buttonEl =\n",
              "        document.querySelector('#df-22eb3041-ffca-4491-b24c-9b82c1c0fa0c button.colab-df-convert');\n",
              "      buttonEl.style.display =\n",
              "        google.colab.kernel.accessAllowed ? 'block' : 'none';\n",
              "\n",
              "      async function convertToInteractive(key) {\n",
              "        const element = document.querySelector('#df-22eb3041-ffca-4491-b24c-9b82c1c0fa0c');\n",
              "        const dataTable =\n",
              "          await google.colab.kernel.invokeFunction('convertToInteractive',\n",
              "                                                    [key], {});\n",
              "        if (!dataTable) return;\n",
              "\n",
              "        const docLinkHtml = 'Like what you see? Visit the ' +\n",
              "          '<a target=\"_blank\" href=https://colab.research.google.com/notebooks/data_table.ipynb>data table notebook</a>'\n",
              "          + ' to learn more about interactive tables.';\n",
              "        element.innerHTML = '';\n",
              "        dataTable['output_type'] = 'display_data';\n",
              "        await google.colab.output.renderOutput(dataTable, element);\n",
              "        const docLink = document.createElement('div');\n",
              "        docLink.innerHTML = docLinkHtml;\n",
              "        element.appendChild(docLink);\n",
              "      }\n",
              "    </script>\n",
              "  </div>\n",
              "\n",
              "\n",
              "<div id=\"df-6d591d13-7696-4a33-b5b6-765cb9e2807f\">\n",
              "  <button class=\"colab-df-quickchart\" onclick=\"quickchart('df-6d591d13-7696-4a33-b5b6-765cb9e2807f')\"\n",
              "            title=\"Suggest charts\"\n",
              "            style=\"display:none;\">\n",
              "\n",
              "<svg xmlns=\"http://www.w3.org/2000/svg\" height=\"24px\"viewBox=\"0 0 24 24\"\n",
              "     width=\"24px\">\n",
              "    <g>\n",
              "        <path d=\"M19 3H5c-1.1 0-2 .9-2 2v14c0 1.1.9 2 2 2h14c1.1 0 2-.9 2-2V5c0-1.1-.9-2-2-2zM9 17H7v-7h2v7zm4 0h-2V7h2v10zm4 0h-2v-4h2v4z\"/>\n",
              "    </g>\n",
              "</svg>\n",
              "  </button>\n",
              "\n",
              "<style>\n",
              "  .colab-df-quickchart {\n",
              "      --bg-color: #E8F0FE;\n",
              "      --fill-color: #1967D2;\n",
              "      --hover-bg-color: #E2EBFA;\n",
              "      --hover-fill-color: #174EA6;\n",
              "      --disabled-fill-color: #AAA;\n",
              "      --disabled-bg-color: #DDD;\n",
              "  }\n",
              "\n",
              "  [theme=dark] .colab-df-quickchart {\n",
              "      --bg-color: #3B4455;\n",
              "      --fill-color: #D2E3FC;\n",
              "      --hover-bg-color: #434B5C;\n",
              "      --hover-fill-color: #FFFFFF;\n",
              "      --disabled-bg-color: #3B4455;\n",
              "      --disabled-fill-color: #666;\n",
              "  }\n",
              "\n",
              "  .colab-df-quickchart {\n",
              "    background-color: var(--bg-color);\n",
              "    border: none;\n",
              "    border-radius: 50%;\n",
              "    cursor: pointer;\n",
              "    display: none;\n",
              "    fill: var(--fill-color);\n",
              "    height: 32px;\n",
              "    padding: 0;\n",
              "    width: 32px;\n",
              "  }\n",
              "\n",
              "  .colab-df-quickchart:hover {\n",
              "    background-color: var(--hover-bg-color);\n",
              "    box-shadow: 0 1px 2px rgba(60, 64, 67, 0.3), 0 1px 3px 1px rgba(60, 64, 67, 0.15);\n",
              "    fill: var(--button-hover-fill-color);\n",
              "  }\n",
              "\n",
              "  .colab-df-quickchart-complete:disabled,\n",
              "  .colab-df-quickchart-complete:disabled:hover {\n",
              "    background-color: var(--disabled-bg-color);\n",
              "    fill: var(--disabled-fill-color);\n",
              "    box-shadow: none;\n",
              "  }\n",
              "\n",
              "  .colab-df-spinner {\n",
              "    border: 2px solid var(--fill-color);\n",
              "    border-color: transparent;\n",
              "    border-bottom-color: var(--fill-color);\n",
              "    animation:\n",
              "      spin 1s steps(1) infinite;\n",
              "  }\n",
              "\n",
              "  @keyframes spin {\n",
              "    0% {\n",
              "      border-color: transparent;\n",
              "      border-bottom-color: var(--fill-color);\n",
              "      border-left-color: var(--fill-color);\n",
              "    }\n",
              "    20% {\n",
              "      border-color: transparent;\n",
              "      border-left-color: var(--fill-color);\n",
              "      border-top-color: var(--fill-color);\n",
              "    }\n",
              "    30% {\n",
              "      border-color: transparent;\n",
              "      border-left-color: var(--fill-color);\n",
              "      border-top-color: var(--fill-color);\n",
              "      border-right-color: var(--fill-color);\n",
              "    }\n",
              "    40% {\n",
              "      border-color: transparent;\n",
              "      border-right-color: var(--fill-color);\n",
              "      border-top-color: var(--fill-color);\n",
              "    }\n",
              "    60% {\n",
              "      border-color: transparent;\n",
              "      border-right-color: var(--fill-color);\n",
              "    }\n",
              "    80% {\n",
              "      border-color: transparent;\n",
              "      border-right-color: var(--fill-color);\n",
              "      border-bottom-color: var(--fill-color);\n",
              "    }\n",
              "    90% {\n",
              "      border-color: transparent;\n",
              "      border-bottom-color: var(--fill-color);\n",
              "    }\n",
              "  }\n",
              "</style>\n",
              "\n",
              "  <script>\n",
              "    async function quickchart(key) {\n",
              "      const quickchartButtonEl =\n",
              "        document.querySelector('#' + key + ' button');\n",
              "      quickchartButtonEl.disabled = true;  // To prevent multiple clicks.\n",
              "      quickchartButtonEl.classList.add('colab-df-spinner');\n",
              "      try {\n",
              "        const charts = await google.colab.kernel.invokeFunction(\n",
              "            'suggestCharts', [key], {});\n",
              "      } catch (error) {\n",
              "        console.error('Error during call to suggestCharts:', error);\n",
              "      }\n",
              "      quickchartButtonEl.classList.remove('colab-df-spinner');\n",
              "      quickchartButtonEl.classList.add('colab-df-quickchart-complete');\n",
              "    }\n",
              "    (() => {\n",
              "      let quickchartButtonEl =\n",
              "        document.querySelector('#df-6d591d13-7696-4a33-b5b6-765cb9e2807f button');\n",
              "      quickchartButtonEl.style.display =\n",
              "        google.colab.kernel.accessAllowed ? 'block' : 'none';\n",
              "    })();\n",
              "  </script>\n",
              "</div>\n",
              "\n",
              "    </div>\n",
              "  </div>\n"
            ],
            "application/vnd.google.colaboratory.intrinsic+json": {
              "type": "dataframe",
              "variable_name": "rais2022"
            }
          },
          "metadata": {},
          "execution_count": 8
        }
      ],
      "source": [
        "# Mostra as 10 primeiras linhas do dataset\n",
        "rais2022.head(10)"
      ]
    },
    {
      "cell_type": "code",
      "execution_count": null,
      "metadata": {
        "colab": {
          "base_uri": "https://localhost:8080/",
          "height": 363
        },
        "id": "KMyYMlMVwYCS",
        "outputId": "1b9f3e07-a816-435b-f349-121e8f558a16"
      },
      "outputs": [
        {
          "output_type": "execute_result",
          "data": {
            "text/plain": [
              "        CNAE 2.0 Classe  Escolaridade após 2005  Idade  Raça Cor  \\\n",
              "778303            46877                      11     36         9   \n",
              "778465            45307                      11     34         4   \n",
              "778474            47814                      11     33         8   \n",
              "778475            47725                      11     42         2   \n",
              "778476            47725                      11     43         2   \n",
              "778485            69206                      11     70         9   \n",
              "778486            65502                      11     42         2   \n",
              "778487            64239                      11     32         2   \n",
              "778488            64239                      11     35         4   \n",
              "778489            47717                      11     25         2   \n",
              "\n",
              "        Sexo Trabalhador  valor_remuneracao_media  \n",
              "778303                 2                  1500.00  \n",
              "778465                 2                  3745.38  \n",
              "778474                 2                  5969.77  \n",
              "778475                 2                  9134.97  \n",
              "778476                 2                  8288.62  \n",
              "778485                 2                  3355.17  \n",
              "778486                 2                  6621.69  \n",
              "778487                 2                  5792.39  \n",
              "778488                 2                  5051.68  \n",
              "778489                 2                  3558.65  "
            ],
            "text/html": [
              "\n",
              "  <div id=\"df-994bd165-b4d3-431b-a33d-ed99658d6719\" class=\"colab-df-container\">\n",
              "    <div>\n",
              "<style scoped>\n",
              "    .dataframe tbody tr th:only-of-type {\n",
              "        vertical-align: middle;\n",
              "    }\n",
              "\n",
              "    .dataframe tbody tr th {\n",
              "        vertical-align: top;\n",
              "    }\n",
              "\n",
              "    .dataframe thead th {\n",
              "        text-align: right;\n",
              "    }\n",
              "</style>\n",
              "<table border=\"1\" class=\"dataframe\">\n",
              "  <thead>\n",
              "    <tr style=\"text-align: right;\">\n",
              "      <th></th>\n",
              "      <th>CNAE 2.0 Classe</th>\n",
              "      <th>Escolaridade após 2005</th>\n",
              "      <th>Idade</th>\n",
              "      <th>Raça Cor</th>\n",
              "      <th>Sexo Trabalhador</th>\n",
              "      <th>valor_remuneracao_media</th>\n",
              "    </tr>\n",
              "  </thead>\n",
              "  <tbody>\n",
              "    <tr>\n",
              "      <th>778303</th>\n",
              "      <td>46877</td>\n",
              "      <td>11</td>\n",
              "      <td>36</td>\n",
              "      <td>9</td>\n",
              "      <td>2</td>\n",
              "      <td>1500.00</td>\n",
              "    </tr>\n",
              "    <tr>\n",
              "      <th>778465</th>\n",
              "      <td>45307</td>\n",
              "      <td>11</td>\n",
              "      <td>34</td>\n",
              "      <td>4</td>\n",
              "      <td>2</td>\n",
              "      <td>3745.38</td>\n",
              "    </tr>\n",
              "    <tr>\n",
              "      <th>778474</th>\n",
              "      <td>47814</td>\n",
              "      <td>11</td>\n",
              "      <td>33</td>\n",
              "      <td>8</td>\n",
              "      <td>2</td>\n",
              "      <td>5969.77</td>\n",
              "    </tr>\n",
              "    <tr>\n",
              "      <th>778475</th>\n",
              "      <td>47725</td>\n",
              "      <td>11</td>\n",
              "      <td>42</td>\n",
              "      <td>2</td>\n",
              "      <td>2</td>\n",
              "      <td>9134.97</td>\n",
              "    </tr>\n",
              "    <tr>\n",
              "      <th>778476</th>\n",
              "      <td>47725</td>\n",
              "      <td>11</td>\n",
              "      <td>43</td>\n",
              "      <td>2</td>\n",
              "      <td>2</td>\n",
              "      <td>8288.62</td>\n",
              "    </tr>\n",
              "    <tr>\n",
              "      <th>778485</th>\n",
              "      <td>69206</td>\n",
              "      <td>11</td>\n",
              "      <td>70</td>\n",
              "      <td>9</td>\n",
              "      <td>2</td>\n",
              "      <td>3355.17</td>\n",
              "    </tr>\n",
              "    <tr>\n",
              "      <th>778486</th>\n",
              "      <td>65502</td>\n",
              "      <td>11</td>\n",
              "      <td>42</td>\n",
              "      <td>2</td>\n",
              "      <td>2</td>\n",
              "      <td>6621.69</td>\n",
              "    </tr>\n",
              "    <tr>\n",
              "      <th>778487</th>\n",
              "      <td>64239</td>\n",
              "      <td>11</td>\n",
              "      <td>32</td>\n",
              "      <td>2</td>\n",
              "      <td>2</td>\n",
              "      <td>5792.39</td>\n",
              "    </tr>\n",
              "    <tr>\n",
              "      <th>778488</th>\n",
              "      <td>64239</td>\n",
              "      <td>11</td>\n",
              "      <td>35</td>\n",
              "      <td>4</td>\n",
              "      <td>2</td>\n",
              "      <td>5051.68</td>\n",
              "    </tr>\n",
              "    <tr>\n",
              "      <th>778489</th>\n",
              "      <td>47717</td>\n",
              "      <td>11</td>\n",
              "      <td>25</td>\n",
              "      <td>2</td>\n",
              "      <td>2</td>\n",
              "      <td>3558.65</td>\n",
              "    </tr>\n",
              "  </tbody>\n",
              "</table>\n",
              "</div>\n",
              "    <div class=\"colab-df-buttons\">\n",
              "\n",
              "  <div class=\"colab-df-container\">\n",
              "    <button class=\"colab-df-convert\" onclick=\"convertToInteractive('df-994bd165-b4d3-431b-a33d-ed99658d6719')\"\n",
              "            title=\"Convert this dataframe to an interactive table.\"\n",
              "            style=\"display:none;\">\n",
              "\n",
              "  <svg xmlns=\"http://www.w3.org/2000/svg\" height=\"24px\" viewBox=\"0 -960 960 960\">\n",
              "    <path d=\"M120-120v-720h720v720H120Zm60-500h600v-160H180v160Zm220 220h160v-160H400v160Zm0 220h160v-160H400v160ZM180-400h160v-160H180v160Zm440 0h160v-160H620v160ZM180-180h160v-160H180v160Zm440 0h160v-160H620v160Z\"/>\n",
              "  </svg>\n",
              "    </button>\n",
              "\n",
              "  <style>\n",
              "    .colab-df-container {\n",
              "      display:flex;\n",
              "      gap: 12px;\n",
              "    }\n",
              "\n",
              "    .colab-df-convert {\n",
              "      background-color: #E8F0FE;\n",
              "      border: none;\n",
              "      border-radius: 50%;\n",
              "      cursor: pointer;\n",
              "      display: none;\n",
              "      fill: #1967D2;\n",
              "      height: 32px;\n",
              "      padding: 0 0 0 0;\n",
              "      width: 32px;\n",
              "    }\n",
              "\n",
              "    .colab-df-convert:hover {\n",
              "      background-color: #E2EBFA;\n",
              "      box-shadow: 0px 1px 2px rgba(60, 64, 67, 0.3), 0px 1px 3px 1px rgba(60, 64, 67, 0.15);\n",
              "      fill: #174EA6;\n",
              "    }\n",
              "\n",
              "    .colab-df-buttons div {\n",
              "      margin-bottom: 4px;\n",
              "    }\n",
              "\n",
              "    [theme=dark] .colab-df-convert {\n",
              "      background-color: #3B4455;\n",
              "      fill: #D2E3FC;\n",
              "    }\n",
              "\n",
              "    [theme=dark] .colab-df-convert:hover {\n",
              "      background-color: #434B5C;\n",
              "      box-shadow: 0px 1px 3px 1px rgba(0, 0, 0, 0.15);\n",
              "      filter: drop-shadow(0px 1px 2px rgba(0, 0, 0, 0.3));\n",
              "      fill: #FFFFFF;\n",
              "    }\n",
              "  </style>\n",
              "\n",
              "    <script>\n",
              "      const buttonEl =\n",
              "        document.querySelector('#df-994bd165-b4d3-431b-a33d-ed99658d6719 button.colab-df-convert');\n",
              "      buttonEl.style.display =\n",
              "        google.colab.kernel.accessAllowed ? 'block' : 'none';\n",
              "\n",
              "      async function convertToInteractive(key) {\n",
              "        const element = document.querySelector('#df-994bd165-b4d3-431b-a33d-ed99658d6719');\n",
              "        const dataTable =\n",
              "          await google.colab.kernel.invokeFunction('convertToInteractive',\n",
              "                                                    [key], {});\n",
              "        if (!dataTable) return;\n",
              "\n",
              "        const docLinkHtml = 'Like what you see? Visit the ' +\n",
              "          '<a target=\"_blank\" href=https://colab.research.google.com/notebooks/data_table.ipynb>data table notebook</a>'\n",
              "          + ' to learn more about interactive tables.';\n",
              "        element.innerHTML = '';\n",
              "        dataTable['output_type'] = 'display_data';\n",
              "        await google.colab.output.renderOutput(dataTable, element);\n",
              "        const docLink = document.createElement('div');\n",
              "        docLink.innerHTML = docLinkHtml;\n",
              "        element.appendChild(docLink);\n",
              "      }\n",
              "    </script>\n",
              "  </div>\n",
              "\n",
              "\n",
              "<div id=\"df-5ed308ab-4ffe-49dc-8c56-0a1fd8dda1a8\">\n",
              "  <button class=\"colab-df-quickchart\" onclick=\"quickchart('df-5ed308ab-4ffe-49dc-8c56-0a1fd8dda1a8')\"\n",
              "            title=\"Suggest charts\"\n",
              "            style=\"display:none;\">\n",
              "\n",
              "<svg xmlns=\"http://www.w3.org/2000/svg\" height=\"24px\"viewBox=\"0 0 24 24\"\n",
              "     width=\"24px\">\n",
              "    <g>\n",
              "        <path d=\"M19 3H5c-1.1 0-2 .9-2 2v14c0 1.1.9 2 2 2h14c1.1 0 2-.9 2-2V5c0-1.1-.9-2-2-2zM9 17H7v-7h2v7zm4 0h-2V7h2v10zm4 0h-2v-4h2v4z\"/>\n",
              "    </g>\n",
              "</svg>\n",
              "  </button>\n",
              "\n",
              "<style>\n",
              "  .colab-df-quickchart {\n",
              "      --bg-color: #E8F0FE;\n",
              "      --fill-color: #1967D2;\n",
              "      --hover-bg-color: #E2EBFA;\n",
              "      --hover-fill-color: #174EA6;\n",
              "      --disabled-fill-color: #AAA;\n",
              "      --disabled-bg-color: #DDD;\n",
              "  }\n",
              "\n",
              "  [theme=dark] .colab-df-quickchart {\n",
              "      --bg-color: #3B4455;\n",
              "      --fill-color: #D2E3FC;\n",
              "      --hover-bg-color: #434B5C;\n",
              "      --hover-fill-color: #FFFFFF;\n",
              "      --disabled-bg-color: #3B4455;\n",
              "      --disabled-fill-color: #666;\n",
              "  }\n",
              "\n",
              "  .colab-df-quickchart {\n",
              "    background-color: var(--bg-color);\n",
              "    border: none;\n",
              "    border-radius: 50%;\n",
              "    cursor: pointer;\n",
              "    display: none;\n",
              "    fill: var(--fill-color);\n",
              "    height: 32px;\n",
              "    padding: 0;\n",
              "    width: 32px;\n",
              "  }\n",
              "\n",
              "  .colab-df-quickchart:hover {\n",
              "    background-color: var(--hover-bg-color);\n",
              "    box-shadow: 0 1px 2px rgba(60, 64, 67, 0.3), 0 1px 3px 1px rgba(60, 64, 67, 0.15);\n",
              "    fill: var(--button-hover-fill-color);\n",
              "  }\n",
              "\n",
              "  .colab-df-quickchart-complete:disabled,\n",
              "  .colab-df-quickchart-complete:disabled:hover {\n",
              "    background-color: var(--disabled-bg-color);\n",
              "    fill: var(--disabled-fill-color);\n",
              "    box-shadow: none;\n",
              "  }\n",
              "\n",
              "  .colab-df-spinner {\n",
              "    border: 2px solid var(--fill-color);\n",
              "    border-color: transparent;\n",
              "    border-bottom-color: var(--fill-color);\n",
              "    animation:\n",
              "      spin 1s steps(1) infinite;\n",
              "  }\n",
              "\n",
              "  @keyframes spin {\n",
              "    0% {\n",
              "      border-color: transparent;\n",
              "      border-bottom-color: var(--fill-color);\n",
              "      border-left-color: var(--fill-color);\n",
              "    }\n",
              "    20% {\n",
              "      border-color: transparent;\n",
              "      border-left-color: var(--fill-color);\n",
              "      border-top-color: var(--fill-color);\n",
              "    }\n",
              "    30% {\n",
              "      border-color: transparent;\n",
              "      border-left-color: var(--fill-color);\n",
              "      border-top-color: var(--fill-color);\n",
              "      border-right-color: var(--fill-color);\n",
              "    }\n",
              "    40% {\n",
              "      border-color: transparent;\n",
              "      border-right-color: var(--fill-color);\n",
              "      border-top-color: var(--fill-color);\n",
              "    }\n",
              "    60% {\n",
              "      border-color: transparent;\n",
              "      border-right-color: var(--fill-color);\n",
              "    }\n",
              "    80% {\n",
              "      border-color: transparent;\n",
              "      border-right-color: var(--fill-color);\n",
              "      border-bottom-color: var(--fill-color);\n",
              "    }\n",
              "    90% {\n",
              "      border-color: transparent;\n",
              "      border-bottom-color: var(--fill-color);\n",
              "    }\n",
              "  }\n",
              "</style>\n",
              "\n",
              "  <script>\n",
              "    async function quickchart(key) {\n",
              "      const quickchartButtonEl =\n",
              "        document.querySelector('#' + key + ' button');\n",
              "      quickchartButtonEl.disabled = true;  // To prevent multiple clicks.\n",
              "      quickchartButtonEl.classList.add('colab-df-spinner');\n",
              "      try {\n",
              "        const charts = await google.colab.kernel.invokeFunction(\n",
              "            'suggestCharts', [key], {});\n",
              "      } catch (error) {\n",
              "        console.error('Error during call to suggestCharts:', error);\n",
              "      }\n",
              "      quickchartButtonEl.classList.remove('colab-df-spinner');\n",
              "      quickchartButtonEl.classList.add('colab-df-quickchart-complete');\n",
              "    }\n",
              "    (() => {\n",
              "      let quickchartButtonEl =\n",
              "        document.querySelector('#df-5ed308ab-4ffe-49dc-8c56-0a1fd8dda1a8 button');\n",
              "      quickchartButtonEl.style.display =\n",
              "        google.colab.kernel.accessAllowed ? 'block' : 'none';\n",
              "    })();\n",
              "  </script>\n",
              "</div>\n",
              "\n",
              "    </div>\n",
              "  </div>\n"
            ],
            "application/vnd.google.colaboratory.intrinsic+json": {
              "type": "dataframe",
              "summary": "{\n  \"name\": \"rais2022\",\n  \"rows\": 10,\n  \"fields\": [\n    {\n      \"column\": \"CNAE 2.0 Classe\",\n      \"properties\": {\n        \"dtype\": \"number\",\n        \"std\": 9729,\n        \"min\": 45307,\n        \"max\": 69206,\n        \"num_unique_values\": 8,\n        \"samples\": [\n          45307,\n          65502,\n          46877\n        ],\n        \"semantic_type\": \"\",\n        \"description\": \"\"\n      }\n    },\n    {\n      \"column\": \"Escolaridade ap\\u00f3s 2005\",\n      \"properties\": {\n        \"dtype\": \"number\",\n        \"std\": 0,\n        \"min\": 11,\n        \"max\": 11,\n        \"num_unique_values\": 1,\n        \"samples\": [\n          11\n        ],\n        \"semantic_type\": \"\",\n        \"description\": \"\"\n      }\n    },\n    {\n      \"column\": \"Idade\",\n      \"properties\": {\n        \"dtype\": \"number\",\n        \"std\": 12,\n        \"min\": 25,\n        \"max\": 70,\n        \"num_unique_values\": 9,\n        \"samples\": [\n          35\n        ],\n        \"semantic_type\": \"\",\n        \"description\": \"\"\n      }\n    },\n    {\n      \"column\": \"Ra\\u00e7a Cor\",\n      \"properties\": {\n        \"dtype\": \"number\",\n        \"std\": 3,\n        \"min\": 2,\n        \"max\": 9,\n        \"num_unique_values\": 4,\n        \"samples\": [\n          4\n        ],\n        \"semantic_type\": \"\",\n        \"description\": \"\"\n      }\n    },\n    {\n      \"column\": \"Sexo Trabalhador\",\n      \"properties\": {\n        \"dtype\": \"number\",\n        \"std\": 0,\n        \"min\": 2,\n        \"max\": 2,\n        \"num_unique_values\": 1,\n        \"samples\": [\n          2\n        ],\n        \"semantic_type\": \"\",\n        \"description\": \"\"\n      }\n    },\n    {\n      \"column\": \"valor_remuneracao_media\",\n      \"properties\": {\n        \"dtype\": \"number\",\n        \"std\": 2352.5372775971996,\n        \"min\": 1500.0,\n        \"max\": 9134.97,\n        \"num_unique_values\": 10,\n        \"samples\": [\n          5051.68\n        ],\n        \"semantic_type\": \"\",\n        \"description\": \"\"\n      }\n    }\n  ]\n}"
            }
          },
          "metadata": {},
          "execution_count": 9
        }
      ],
      "source": [
        "# Mostra as 10 últimas linhas do dataset\n",
        "rais2022.tail(10)"
      ]
    },
    {
      "cell_type": "code",
      "execution_count": null,
      "metadata": {
        "colab": {
          "base_uri": "https://localhost:8080/",
          "height": 300
        },
        "id": "7NKdYewownzG",
        "outputId": "1f0e2de6-d049-46b4-e52b-248cda2e19fb"
      },
      "outputs": [
        {
          "output_type": "execute_result",
          "data": {
            "text/plain": [
              "       CNAE 2.0 Classe  Escolaridade após 2005          Idade       Raça Cor  \\\n",
              "count    238311.000000           238311.000000  238311.000000  238311.000000   \n",
              "mean      50484.083181                6.817965      35.057156       6.220846   \n",
              "std        6172.726557                1.284697      11.915492       3.033876   \n",
              "min       45111.000000                1.000000      14.000000       1.000000   \n",
              "25%       47113.000000                7.000000      25.000000       2.000000   \n",
              "50%       47717.000000                7.000000      33.000000       8.000000   \n",
              "75%       52117.000000                7.000000      43.000000       9.000000   \n",
              "max       69206.000000               11.000000      92.000000       9.000000   \n",
              "\n",
              "       Sexo Trabalhador  valor_remuneracao_media  \n",
              "count     238311.000000            238311.000000  \n",
              "mean           1.426145              2837.167884  \n",
              "std            0.494516              7913.385782  \n",
              "min            1.000000                 0.000000  \n",
              "25%            1.000000              1361.110000  \n",
              "50%            1.000000              1739.460000  \n",
              "75%            2.000000              2513.340000  \n",
              "max            2.000000            693600.000000  "
            ],
            "text/html": [
              "\n",
              "  <div id=\"df-045492aa-06f0-4abc-a111-7c4833bf2555\" class=\"colab-df-container\">\n",
              "    <div>\n",
              "<style scoped>\n",
              "    .dataframe tbody tr th:only-of-type {\n",
              "        vertical-align: middle;\n",
              "    }\n",
              "\n",
              "    .dataframe tbody tr th {\n",
              "        vertical-align: top;\n",
              "    }\n",
              "\n",
              "    .dataframe thead th {\n",
              "        text-align: right;\n",
              "    }\n",
              "</style>\n",
              "<table border=\"1\" class=\"dataframe\">\n",
              "  <thead>\n",
              "    <tr style=\"text-align: right;\">\n",
              "      <th></th>\n",
              "      <th>CNAE 2.0 Classe</th>\n",
              "      <th>Escolaridade após 2005</th>\n",
              "      <th>Idade</th>\n",
              "      <th>Raça Cor</th>\n",
              "      <th>Sexo Trabalhador</th>\n",
              "      <th>valor_remuneracao_media</th>\n",
              "    </tr>\n",
              "  </thead>\n",
              "  <tbody>\n",
              "    <tr>\n",
              "      <th>count</th>\n",
              "      <td>238311.000000</td>\n",
              "      <td>238311.000000</td>\n",
              "      <td>238311.000000</td>\n",
              "      <td>238311.000000</td>\n",
              "      <td>238311.000000</td>\n",
              "      <td>238311.000000</td>\n",
              "    </tr>\n",
              "    <tr>\n",
              "      <th>mean</th>\n",
              "      <td>50484.083181</td>\n",
              "      <td>6.817965</td>\n",
              "      <td>35.057156</td>\n",
              "      <td>6.220846</td>\n",
              "      <td>1.426145</td>\n",
              "      <td>2837.167884</td>\n",
              "    </tr>\n",
              "    <tr>\n",
              "      <th>std</th>\n",
              "      <td>6172.726557</td>\n",
              "      <td>1.284697</td>\n",
              "      <td>11.915492</td>\n",
              "      <td>3.033876</td>\n",
              "      <td>0.494516</td>\n",
              "      <td>7913.385782</td>\n",
              "    </tr>\n",
              "    <tr>\n",
              "      <th>min</th>\n",
              "      <td>45111.000000</td>\n",
              "      <td>1.000000</td>\n",
              "      <td>14.000000</td>\n",
              "      <td>1.000000</td>\n",
              "      <td>1.000000</td>\n",
              "      <td>0.000000</td>\n",
              "    </tr>\n",
              "    <tr>\n",
              "      <th>25%</th>\n",
              "      <td>47113.000000</td>\n",
              "      <td>7.000000</td>\n",
              "      <td>25.000000</td>\n",
              "      <td>2.000000</td>\n",
              "      <td>1.000000</td>\n",
              "      <td>1361.110000</td>\n",
              "    </tr>\n",
              "    <tr>\n",
              "      <th>50%</th>\n",
              "      <td>47717.000000</td>\n",
              "      <td>7.000000</td>\n",
              "      <td>33.000000</td>\n",
              "      <td>8.000000</td>\n",
              "      <td>1.000000</td>\n",
              "      <td>1739.460000</td>\n",
              "    </tr>\n",
              "    <tr>\n",
              "      <th>75%</th>\n",
              "      <td>52117.000000</td>\n",
              "      <td>7.000000</td>\n",
              "      <td>43.000000</td>\n",
              "      <td>9.000000</td>\n",
              "      <td>2.000000</td>\n",
              "      <td>2513.340000</td>\n",
              "    </tr>\n",
              "    <tr>\n",
              "      <th>max</th>\n",
              "      <td>69206.000000</td>\n",
              "      <td>11.000000</td>\n",
              "      <td>92.000000</td>\n",
              "      <td>9.000000</td>\n",
              "      <td>2.000000</td>\n",
              "      <td>693600.000000</td>\n",
              "    </tr>\n",
              "  </tbody>\n",
              "</table>\n",
              "</div>\n",
              "    <div class=\"colab-df-buttons\">\n",
              "\n",
              "  <div class=\"colab-df-container\">\n",
              "    <button class=\"colab-df-convert\" onclick=\"convertToInteractive('df-045492aa-06f0-4abc-a111-7c4833bf2555')\"\n",
              "            title=\"Convert this dataframe to an interactive table.\"\n",
              "            style=\"display:none;\">\n",
              "\n",
              "  <svg xmlns=\"http://www.w3.org/2000/svg\" height=\"24px\" viewBox=\"0 -960 960 960\">\n",
              "    <path d=\"M120-120v-720h720v720H120Zm60-500h600v-160H180v160Zm220 220h160v-160H400v160Zm0 220h160v-160H400v160ZM180-400h160v-160H180v160Zm440 0h160v-160H620v160ZM180-180h160v-160H180v160Zm440 0h160v-160H620v160Z\"/>\n",
              "  </svg>\n",
              "    </button>\n",
              "\n",
              "  <style>\n",
              "    .colab-df-container {\n",
              "      display:flex;\n",
              "      gap: 12px;\n",
              "    }\n",
              "\n",
              "    .colab-df-convert {\n",
              "      background-color: #E8F0FE;\n",
              "      border: none;\n",
              "      border-radius: 50%;\n",
              "      cursor: pointer;\n",
              "      display: none;\n",
              "      fill: #1967D2;\n",
              "      height: 32px;\n",
              "      padding: 0 0 0 0;\n",
              "      width: 32px;\n",
              "    }\n",
              "\n",
              "    .colab-df-convert:hover {\n",
              "      background-color: #E2EBFA;\n",
              "      box-shadow: 0px 1px 2px rgba(60, 64, 67, 0.3), 0px 1px 3px 1px rgba(60, 64, 67, 0.15);\n",
              "      fill: #174EA6;\n",
              "    }\n",
              "\n",
              "    .colab-df-buttons div {\n",
              "      margin-bottom: 4px;\n",
              "    }\n",
              "\n",
              "    [theme=dark] .colab-df-convert {\n",
              "      background-color: #3B4455;\n",
              "      fill: #D2E3FC;\n",
              "    }\n",
              "\n",
              "    [theme=dark] .colab-df-convert:hover {\n",
              "      background-color: #434B5C;\n",
              "      box-shadow: 0px 1px 3px 1px rgba(0, 0, 0, 0.15);\n",
              "      filter: drop-shadow(0px 1px 2px rgba(0, 0, 0, 0.3));\n",
              "      fill: #FFFFFF;\n",
              "    }\n",
              "  </style>\n",
              "\n",
              "    <script>\n",
              "      const buttonEl =\n",
              "        document.querySelector('#df-045492aa-06f0-4abc-a111-7c4833bf2555 button.colab-df-convert');\n",
              "      buttonEl.style.display =\n",
              "        google.colab.kernel.accessAllowed ? 'block' : 'none';\n",
              "\n",
              "      async function convertToInteractive(key) {\n",
              "        const element = document.querySelector('#df-045492aa-06f0-4abc-a111-7c4833bf2555');\n",
              "        const dataTable =\n",
              "          await google.colab.kernel.invokeFunction('convertToInteractive',\n",
              "                                                    [key], {});\n",
              "        if (!dataTable) return;\n",
              "\n",
              "        const docLinkHtml = 'Like what you see? Visit the ' +\n",
              "          '<a target=\"_blank\" href=https://colab.research.google.com/notebooks/data_table.ipynb>data table notebook</a>'\n",
              "          + ' to learn more about interactive tables.';\n",
              "        element.innerHTML = '';\n",
              "        dataTable['output_type'] = 'display_data';\n",
              "        await google.colab.output.renderOutput(dataTable, element);\n",
              "        const docLink = document.createElement('div');\n",
              "        docLink.innerHTML = docLinkHtml;\n",
              "        element.appendChild(docLink);\n",
              "      }\n",
              "    </script>\n",
              "  </div>\n",
              "\n",
              "\n",
              "<div id=\"df-6cc4182b-35fb-4781-b18a-9c7eeada849f\">\n",
              "  <button class=\"colab-df-quickchart\" onclick=\"quickchart('df-6cc4182b-35fb-4781-b18a-9c7eeada849f')\"\n",
              "            title=\"Suggest charts\"\n",
              "            style=\"display:none;\">\n",
              "\n",
              "<svg xmlns=\"http://www.w3.org/2000/svg\" height=\"24px\"viewBox=\"0 0 24 24\"\n",
              "     width=\"24px\">\n",
              "    <g>\n",
              "        <path d=\"M19 3H5c-1.1 0-2 .9-2 2v14c0 1.1.9 2 2 2h14c1.1 0 2-.9 2-2V5c0-1.1-.9-2-2-2zM9 17H7v-7h2v7zm4 0h-2V7h2v10zm4 0h-2v-4h2v4z\"/>\n",
              "    </g>\n",
              "</svg>\n",
              "  </button>\n",
              "\n",
              "<style>\n",
              "  .colab-df-quickchart {\n",
              "      --bg-color: #E8F0FE;\n",
              "      --fill-color: #1967D2;\n",
              "      --hover-bg-color: #E2EBFA;\n",
              "      --hover-fill-color: #174EA6;\n",
              "      --disabled-fill-color: #AAA;\n",
              "      --disabled-bg-color: #DDD;\n",
              "  }\n",
              "\n",
              "  [theme=dark] .colab-df-quickchart {\n",
              "      --bg-color: #3B4455;\n",
              "      --fill-color: #D2E3FC;\n",
              "      --hover-bg-color: #434B5C;\n",
              "      --hover-fill-color: #FFFFFF;\n",
              "      --disabled-bg-color: #3B4455;\n",
              "      --disabled-fill-color: #666;\n",
              "  }\n",
              "\n",
              "  .colab-df-quickchart {\n",
              "    background-color: var(--bg-color);\n",
              "    border: none;\n",
              "    border-radius: 50%;\n",
              "    cursor: pointer;\n",
              "    display: none;\n",
              "    fill: var(--fill-color);\n",
              "    height: 32px;\n",
              "    padding: 0;\n",
              "    width: 32px;\n",
              "  }\n",
              "\n",
              "  .colab-df-quickchart:hover {\n",
              "    background-color: var(--hover-bg-color);\n",
              "    box-shadow: 0 1px 2px rgba(60, 64, 67, 0.3), 0 1px 3px 1px rgba(60, 64, 67, 0.15);\n",
              "    fill: var(--button-hover-fill-color);\n",
              "  }\n",
              "\n",
              "  .colab-df-quickchart-complete:disabled,\n",
              "  .colab-df-quickchart-complete:disabled:hover {\n",
              "    background-color: var(--disabled-bg-color);\n",
              "    fill: var(--disabled-fill-color);\n",
              "    box-shadow: none;\n",
              "  }\n",
              "\n",
              "  .colab-df-spinner {\n",
              "    border: 2px solid var(--fill-color);\n",
              "    border-color: transparent;\n",
              "    border-bottom-color: var(--fill-color);\n",
              "    animation:\n",
              "      spin 1s steps(1) infinite;\n",
              "  }\n",
              "\n",
              "  @keyframes spin {\n",
              "    0% {\n",
              "      border-color: transparent;\n",
              "      border-bottom-color: var(--fill-color);\n",
              "      border-left-color: var(--fill-color);\n",
              "    }\n",
              "    20% {\n",
              "      border-color: transparent;\n",
              "      border-left-color: var(--fill-color);\n",
              "      border-top-color: var(--fill-color);\n",
              "    }\n",
              "    30% {\n",
              "      border-color: transparent;\n",
              "      border-left-color: var(--fill-color);\n",
              "      border-top-color: var(--fill-color);\n",
              "      border-right-color: var(--fill-color);\n",
              "    }\n",
              "    40% {\n",
              "      border-color: transparent;\n",
              "      border-right-color: var(--fill-color);\n",
              "      border-top-color: var(--fill-color);\n",
              "    }\n",
              "    60% {\n",
              "      border-color: transparent;\n",
              "      border-right-color: var(--fill-color);\n",
              "    }\n",
              "    80% {\n",
              "      border-color: transparent;\n",
              "      border-right-color: var(--fill-color);\n",
              "      border-bottom-color: var(--fill-color);\n",
              "    }\n",
              "    90% {\n",
              "      border-color: transparent;\n",
              "      border-bottom-color: var(--fill-color);\n",
              "    }\n",
              "  }\n",
              "</style>\n",
              "\n",
              "  <script>\n",
              "    async function quickchart(key) {\n",
              "      const quickchartButtonEl =\n",
              "        document.querySelector('#' + key + ' button');\n",
              "      quickchartButtonEl.disabled = true;  // To prevent multiple clicks.\n",
              "      quickchartButtonEl.classList.add('colab-df-spinner');\n",
              "      try {\n",
              "        const charts = await google.colab.kernel.invokeFunction(\n",
              "            'suggestCharts', [key], {});\n",
              "      } catch (error) {\n",
              "        console.error('Error during call to suggestCharts:', error);\n",
              "      }\n",
              "      quickchartButtonEl.classList.remove('colab-df-spinner');\n",
              "      quickchartButtonEl.classList.add('colab-df-quickchart-complete');\n",
              "    }\n",
              "    (() => {\n",
              "      let quickchartButtonEl =\n",
              "        document.querySelector('#df-6cc4182b-35fb-4781-b18a-9c7eeada849f button');\n",
              "      quickchartButtonEl.style.display =\n",
              "        google.colab.kernel.accessAllowed ? 'block' : 'none';\n",
              "    })();\n",
              "  </script>\n",
              "</div>\n",
              "\n",
              "    </div>\n",
              "  </div>\n"
            ],
            "application/vnd.google.colaboratory.intrinsic+json": {
              "type": "dataframe",
              "summary": "{\n  \"name\": \"rais2022\",\n  \"rows\": 8,\n  \"fields\": [\n    {\n      \"column\": \"CNAE 2.0 Classe\",\n      \"properties\": {\n        \"dtype\": \"number\",\n        \"std\": 70449.4255904799,\n        \"min\": 6172.726557109796,\n        \"max\": 238311.0,\n        \"num_unique_values\": 8,\n        \"samples\": [\n          50484.083181221176,\n          47717.0,\n          238311.0\n        ],\n        \"semantic_type\": \"\",\n        \"description\": \"\"\n      }\n    },\n    {\n      \"column\": \"Escolaridade ap\\u00f3s 2005\",\n      \"properties\": {\n        \"dtype\": \"number\",\n        \"std\": 84253.58613198633,\n        \"min\": 1.0,\n        \"max\": 238311.0,\n        \"num_unique_values\": 6,\n        \"samples\": [\n          238311.0,\n          6.817964760334185,\n          11.0\n        ],\n        \"semantic_type\": \"\",\n        \"description\": \"\"\n      }\n    },\n    {\n      \"column\": \"Idade\",\n      \"properties\": {\n        \"dtype\": \"number\",\n        \"std\": 84242.83822305522,\n        \"min\": 11.915492174839436,\n        \"max\": 238311.0,\n        \"num_unique_values\": 8,\n        \"samples\": [\n          35.05715640486591,\n          33.0,\n          238311.0\n        ],\n        \"semantic_type\": \"\",\n        \"description\": \"\"\n      }\n    },\n    {\n      \"column\": \"Ra\\u00e7a Cor\",\n      \"properties\": {\n        \"dtype\": \"number\",\n        \"std\": 84253.72996967178,\n        \"min\": 1.0,\n        \"max\": 238311.0,\n        \"num_unique_values\": 7,\n        \"samples\": [\n          238311.0,\n          6.2208458694730835,\n          8.0\n        ],\n        \"semantic_type\": \"\",\n        \"description\": \"\"\n      }\n    },\n    {\n      \"column\": \"Sexo Trabalhador\",\n      \"properties\": {\n        \"dtype\": \"number\",\n        \"std\": 84255.21150586264,\n        \"min\": 0.49451636946474276,\n        \"max\": 238311.0,\n        \"num_unique_values\": 5,\n        \"samples\": [\n          1.4261448275572677,\n          2.0,\n          0.49451636946474276\n        ],\n        \"semantic_type\": \"\",\n        \"description\": \"\"\n      }\n    },\n    {\n      \"column\": \"valor_remuneracao_media\",\n      \"properties\": {\n        \"dtype\": \"number\",\n        \"std\": 246562.5579160826,\n        \"min\": 0.0,\n        \"max\": 693600.0,\n        \"num_unique_values\": 8,\n        \"samples\": [\n          2837.1678837317622,\n          1739.46,\n          238311.0\n        ],\n        \"semantic_type\": \"\",\n        \"description\": \"\"\n      }\n    }\n  ]\n}"
            }
          },
          "metadata": {},
          "execution_count": 10
        }
      ],
      "source": [
        "# Faz um resumo estatístico do dataset (média, desvio padrão, mínimo, máximo e os quartis)\n",
        "rais2022.describe()"
      ]
    },
    {
      "cell_type": "markdown",
      "metadata": {
        "id": "fabLTz9c_tJE"
      },
      "source": [
        "Como exercício inicial do nosso estudo, observaremos se a quantidade de vínculos de cada gênero está balanceado. Pela média desses dados (1,43) já podemos imaginar uma tendência maior de trabalhadores do sexo masculino no estado. Confirmamos a desconfiança que existem mais registros de dados 1 (masculino), do que o 2 (feminino), o que mostra um primeiro sinal de preponderância dos homens no mercado de trabalho."
      ]
    },
    {
      "cell_type": "code",
      "execution_count": null,
      "metadata": {
        "colab": {
          "base_uri": "https://localhost:8080/"
        },
        "id": "-j0Pa0W__tOW",
        "outputId": "a978df8a-1f7b-46ae-c363-4061d1a54e78"
      },
      "outputs": [
        {
          "output_type": "stream",
          "name": "stdout",
          "text": [
            "Sexo Trabalhador\n",
            "1    136756\n",
            "2    101555\n",
            "dtype: int64\n"
          ]
        }
      ],
      "source": [
        "# distribuição das classes\n",
        "print(rais2022.groupby('Sexo Trabalhador').size())"
      ]
    },
    {
      "cell_type": "markdown",
      "metadata": {
        "id": "R_5Ntt3f_tTv"
      },
      "source": [
        "### 2.2. Operações"
      ]
    },
    {
      "cell_type": "markdown",
      "metadata": {
        "id": "6INUDEk_0ttl"
      },
      "source": [
        "Para analisarmos a precisão do modelo final, separaremos os dados em conjuntos de teste e treino por meio do comando train_test_split, que retorna 4 estruturas de dados: os atributos e classes para o conjunto de teste e os atributos e classes para o conjunto de treino. Usaremos 80% do conjunto de dados para modelagem e guardaremos 20% para teste. Colunas de atributos: todas exceto de gênero / Coluna da classe: Sexo Trabalhador. O passo seguinte será usar a validação cruzada para treinar e avaliar os modelos, pois não queremos ter underfitting (classificador pouco aderente ao conjunto de treinamento) e nem overfitting (classificador aderente demais ao conjunto de treinamento). A métrica utilizada foi a acurácia, já que nesse estudo é importante sabermos o quanto o modelo está acertando."
      ]
    },
    {
      "cell_type": "code",
      "execution_count": null,
      "metadata": {
        "id": "dK3mK65T_tYx"
      },
      "outputs": [],
      "source": [
        "# Separação em bases de treino e teste (holdout)\n",
        "\n",
        "test_size = 0.20 # tamanho do conjunto de teste\n",
        "seed = 7 # semente aleatória\n",
        "\n",
        "# Separação em conjuntos de treino e teste\n",
        "array = rais2022.values\n",
        "X = rais2022.drop(columns=['Sexo Trabalhador'])\n",
        "y = rais2022['Sexo Trabalhador']\n",
        "X_train, X_test, y_train, y_test = train_test_split(X, y,\n",
        "    test_size=test_size, shuffle=True, random_state=seed, stratify=y) # holdout com estratificação\n",
        "\n",
        "# Parâmetros e partições da validação cruzada\n",
        "scoring = 'accuracy'\n",
        "num_particoes = 10\n",
        "kfold = StratifiedKFold(n_splits=num_particoes, shuffle=True, random_state=seed) # validação cruzada com estratificação"
      ]
    },
    {
      "cell_type": "markdown",
      "source": [
        "Antes de iniciarmos os modelos, é importante verificar quais atributos são realmente relevantes. Como são poucas variáveis sendo observadas, consideraremos o método *feature selection* de importância de atributos, pois nele não é necessário estabelecer o número de atributos que se deseja. Como os referentes a escolaridade e raça tiveram relevância abaixo de 5%, iremos relirá-los do modelo. Esse resultado indica que a escolaridade ou raça não colaboram o suficiente para o modelo definir o gênero da pessoa registrada. Para que o modelo seja mais dinâmico, reduziremos a amostragem pela metade. Como a média da variável de gênero manteve-se, podemos considerar que mantivemos a proporção dos dados."
      ],
      "metadata": {
        "id": "YohoNx_qrBxn"
      }
    },
    {
      "cell_type": "code",
      "source": [
        "# Importância de Atributos com ExtraTrees\n",
        "\n",
        "# Criação do modelo para seleção de atributos\n",
        "modelo = ExtraTreesClassifier(n_estimators=100)\n",
        "modelo.fit(X,y)\n",
        "\n",
        "# Exibe os atributos orginais\n",
        "print(\"\\nAtributos Originais:\", rais2022.columns[[0, 1, 2, 3, 5]])\n",
        "\n",
        "# Exibe a pontuação de importância para cada atributo (quanto maior a pontuação, mais importante é o atributo).\n",
        "print(modelo.feature_importances_)"
      ],
      "metadata": {
        "id": "lsDgDffLq-W_",
        "colab": {
          "base_uri": "https://localhost:8080/"
        },
        "outputId": "ab11afaf-0232-4148-ee42-3e1779b6197d"
      },
      "execution_count": null,
      "outputs": [
        {
          "output_type": "stream",
          "name": "stdout",
          "text": [
            "\n",
            "Atributos Originais: Index(['CNAE 2.0 Classe', 'Escolaridade após 2005', 'Idade', 'Raça Cor',\n",
            "       'valor_remuneracao_media'],\n",
            "      dtype='object')\n",
            "[0.25485352 0.03022536 0.14141533 0.01426793 0.55923785]\n"
          ]
        }
      ]
    },
    {
      "cell_type": "code",
      "source": [
        "# Separação em bases de treino e teste (holdout)\n",
        "\n",
        "test_size = 0.20 # tamanho do conjunto de teste\n",
        "seed = 7 # semente aleatória\n",
        "\n",
        "# Separação em conjuntos de treino e teste\n",
        "array = rais2022.values\n",
        "X = rais2022.drop(columns=['Sexo Trabalhador','Escolaridade após 2005','Raça Cor'])\n",
        "y = rais2022['Sexo Trabalhador']\n",
        "X_train, X_test, y_train, y_test = train_test_split(X, y,\n",
        "    test_size=0.5, shuffle=True, random_state=seed, stratify=y) # holdout com estratificação e utilizando 50% do dataset\n",
        "\n",
        "# Parâmetros e partições da validação cruzada\n",
        "scoring = 'accuracy'\n",
        "num_particoes = 10\n",
        "kfold = StratifiedKFold(n_splits=num_particoes, shuffle=True, random_state=seed) # validação cruzada com estratificação\n",
        "\n",
        "print(X_train.describe())\n",
        "print(y_train.describe())"
      ],
      "metadata": {
        "id": "bdI0BQCguJmY",
        "colab": {
          "base_uri": "https://localhost:8080/"
        },
        "outputId": "e5bfcbfb-e998-4549-9c56-caff1a8123f5"
      },
      "execution_count": null,
      "outputs": [
        {
          "output_type": "stream",
          "name": "stdout",
          "text": [
            "       CNAE 2.0 Classe          Idade  valor_remuneracao_media\n",
            "count    119155.000000  119155.000000            119155.000000\n",
            "mean      50495.381167      35.021862              2830.095733\n",
            "std        6172.315229      11.904782              8173.213168\n",
            "min       45111.000000      14.000000                 0.000000\n",
            "25%       47113.000000      25.000000              1360.985000\n",
            "50%       47717.000000      33.000000              1735.040000\n",
            "75%       52117.000000      43.000000              2507.595000\n",
            "max       69206.000000      86.000000            693600.000000\n",
            "count    119155.000000\n",
            "mean          1.426142\n",
            "std           0.494517\n",
            "min           1.000000\n",
            "25%           1.000000\n",
            "50%           1.000000\n",
            "75%           2.000000\n",
            "max           2.000000\n",
            "Name: Sexo Trabalhador, dtype: float64\n"
          ]
        }
      ]
    },
    {
      "cell_type": "markdown",
      "metadata": {
        "id": "_ByaXjtDUnnD"
      },
      "source": [
        "## 3. Modelagem e Treinamento"
      ]
    },
    {
      "cell_type": "markdown",
      "source": [
        "Rodaremos 10 modelos/*ensembles* diferentes. Como resultado, o **Gradient Boosting** apresentou a melhor acuária (69,58%)."
      ],
      "metadata": {
        "id": "hrlWVUiw1TlC"
      }
    },
    {
      "cell_type": "code",
      "execution_count": null,
      "metadata": {
        "colab": {
          "base_uri": "https://localhost:8080/",
          "height": 1000
        },
        "id": "Qaa5sMny1kwJ",
        "outputId": "8c435c07-af0a-4e10-dde3-9c3976f52a77"
      },
      "outputs": [
        {
          "output_type": "stream",
          "name": "stdout",
          "text": [
            "LR: 0.576207 (0.002294)\n",
            "KNN: 0.656565 (0.002212)\n",
            "CART: 0.616575 (0.002730)\n",
            "NB: 0.591658 (0.013931)\n",
            "Bagging: 0.651999 (0.003439)\n",
            "RF: 0.652260 (0.002523)\n",
            "ET: 0.629189 (0.002707)\n",
            "Ada: 0.690596 (0.003333)\n",
            "GB: 0.695816 (0.002998)\n",
            "Voting: 0.584424 (0.003086)\n"
          ]
        },
        {
          "output_type": "display_data",
          "data": {
            "text/plain": [
              "<Figure size 1500x1000 with 1 Axes>"
            ],
            "image/png": "[encoded data removed]"
          },
          "metadata": {}
        }
      ],
      "source": [
        "#TEMPO DE EXECUÇÃO: 8 MINUTOS\n",
        "\n",
        "np.random.seed(7) # definindo uma semente global\n",
        "\n",
        "# Lista que armazenará os modelos\n",
        "models = []\n",
        "\n",
        "# Criando os modelos e adicionando-os na lista de modelos\n",
        "models.append(('LR', LogisticRegression(max_iter=200)))\n",
        "models.append(('KNN', KNeighborsClassifier()))\n",
        "models.append(('CART', DecisionTreeClassifier()))\n",
        "models.append(('NB', GaussianNB()))\n",
        "\n",
        "# Definindo os parâmetros do classificador base para o BaggingClassifier\n",
        "base = DecisionTreeClassifier()\n",
        "num_trees = 100\n",
        "max_features = 3\n",
        "\n",
        "# Criando os modelos para o VotingClassifier\n",
        "bases = []\n",
        "model1 = LogisticRegression(max_iter=200)\n",
        "bases.append(('logistic', model1))\n",
        "model2 = DecisionTreeClassifier()\n",
        "bases.append(('cart', model2))\n",
        "\n",
        "# Criando os ensembles e adicionando-os na lista de modelos\n",
        "models.append(('Bagging', BaggingClassifier(base_estimator=base, n_estimators=num_trees)))\n",
        "models.append(('RF', RandomForestClassifier(n_estimators=num_trees, max_features=max_features)))\n",
        "models.append(('ET', ExtraTreesClassifier(n_estimators=num_trees, max_features=max_features)))\n",
        "models.append(('Ada', AdaBoostClassifier(n_estimators=num_trees)))\n",
        "models.append(('GB', GradientBoostingClassifier(n_estimators=num_trees)))\n",
        "models.append(('Voting', VotingClassifier(bases)))\n",
        "\n",
        "# Listas para armazenar os resultados\n",
        "results = []\n",
        "names = []\n",
        "\n",
        "# Definindo o número de folds\n",
        "num_folds = 5\n",
        "kfold = KFold(n_splits=num_folds)\n",
        "\n",
        "# Avaliação dos modelos\n",
        "for name, model in models:\n",
        "    cv_results = cross_val_score(model, X_train, y_train, cv=kfold, scoring=scoring)\n",
        "    results.append(cv_results)\n",
        "    names.append(name)\n",
        "    msg = \"%s: %f (%f)\" % (name, cv_results.mean(), cv_results.std())\n",
        "    print(msg)\n",
        "\n",
        "# Boxplot de comparação dos modelos\n",
        "fig = plt.figure(figsize=(15,10))\n",
        "fig.suptitle('Comparação dos Modelos')\n",
        "ax = fig.add_subplot(111)\n",
        "plt.boxplot(results)\n",
        "ax.set_xticklabels(names)\n",
        "plt.show()"
      ]
    },
    {
      "cell_type": "markdown",
      "source": [
        "O próximo passo será analisar, utilizando a biblioteca Pipeline, como os modelos se saem com os dados normalizados e padronizados, para verificar se a melhor acurácia do GB se confirma. Esse modelo continuou se sobressaindo em todas as alterações realizadas na base de dados. Também é importante notarmos que a acurácia é similar (69,6%) em todos os casos, revelando que normalizar ou padronizar os dados não alterou na aderência do modelo."
      ],
      "metadata": {
        "id": "7K5ZN565brZT"
      }
    },
    {
      "cell_type": "code",
      "source": [
        "#TEMPO DE EXECUÇÃO: 26 MINUTOS\n",
        "\n",
        "np.random.seed(7) # definindo uma semente global para este bloco\n",
        "\n",
        "# Listas para armazenar os armazenar os pipelines e os resultados para todas as visões do dataset\n",
        "pipelines = []\n",
        "results = []\n",
        "names = []\n",
        "\n",
        "\n",
        "# Criando os elementos do pipeline\n",
        "\n",
        "# Algoritmos que serão utilizados\n",
        "reg_log = ('LR', LogisticRegression(max_iter=200))\n",
        "knn = ('KNN', KNeighborsClassifier())\n",
        "cart = ('CART', DecisionTreeClassifier())\n",
        "naive_bayes = ('NB', GaussianNB())\n",
        "bagging = ('Bag', BaggingClassifier(base_estimator=base, n_estimators=num_trees))\n",
        "random_forest = ('RF', RandomForestClassifier(n_estimators=num_trees, max_features=max_features))\n",
        "extra_trees = ('ET', ExtraTreesClassifier(n_estimators=num_trees, max_features=max_features))\n",
        "adaboost = ('Ada', AdaBoostClassifier(n_estimators=num_trees))\n",
        "gradient_boosting = ('GB', GradientBoostingClassifier(n_estimators=num_trees))\n",
        "voting = ('Voting', VotingClassifier(bases))\n",
        "\n",
        "# Transformações que serão utilizadas\n",
        "standard_scaler = ('StandardScaler', StandardScaler())\n",
        "min_max_scaler = ('MinMaxScaler', MinMaxScaler())\n",
        "\n",
        "\n",
        "# Montando os pipelines\n",
        "\n",
        "# Dataset original\n",
        "pipelines.append(('LR-orig', Pipeline([reg_log])))\n",
        "pipelines.append(('KNN-orig', Pipeline([knn])))\n",
        "pipelines.append(('CART-orig', Pipeline([cart])))\n",
        "pipelines.append(('NB-orig', Pipeline([naive_bayes])))\n",
        "pipelines.append(('Bag-orig', Pipeline([bagging])))\n",
        "pipelines.append(('RF-orig', Pipeline([random_forest])))\n",
        "pipelines.append(('ET-orig', Pipeline([extra_trees])))\n",
        "pipelines.append(('Ada-orig', Pipeline([adaboost])))\n",
        "pipelines.append(('GB-orig', Pipeline([gradient_boosting])))\n",
        "pipelines.append(('Vot-orig', Pipeline([voting])))\n",
        "\n",
        "# Dataset Padronizado\n",
        "pipelines.append(('LR-padr', Pipeline([standard_scaler, reg_log])))\n",
        "pipelines.append(('KNN-padr', Pipeline([standard_scaler, knn])))\n",
        "pipelines.append(('CART-padr', Pipeline([standard_scaler, cart])))\n",
        "pipelines.append(('NB-padr', Pipeline([standard_scaler, naive_bayes])))\n",
        "pipelines.append(('Bag-padr', Pipeline([standard_scaler, bagging])))\n",
        "pipelines.append(('RF-padr', Pipeline([standard_scaler, random_forest])))\n",
        "pipelines.append(('ET-padr', Pipeline([standard_scaler, extra_trees])))\n",
        "pipelines.append(('Ada-padr', Pipeline([standard_scaler, adaboost])))\n",
        "pipelines.append(('GB-padr', Pipeline([standard_scaler, gradient_boosting])))\n",
        "pipelines.append(('Vot-padr', Pipeline([standard_scaler, voting])))\n",
        "\n",
        "# Dataset Normalizado\n",
        "pipelines.append(('LR-norm', Pipeline([min_max_scaler, reg_log])))\n",
        "pipelines.append(('KNN-norm', Pipeline([min_max_scaler, knn])))\n",
        "pipelines.append(('CART-norm', Pipeline([min_max_scaler, cart])))\n",
        "pipelines.append(('NB-norm', Pipeline([min_max_scaler, naive_bayes])))\n",
        "pipelines.append(('Bag-norm', Pipeline([min_max_scaler, bagging])))\n",
        "pipelines.append(('RF-norm', Pipeline([min_max_scaler, random_forest])))\n",
        "pipelines.append(('ET-norm', Pipeline([min_max_scaler, extra_trees])))\n",
        "pipelines.append(('Ada-norm', Pipeline([min_max_scaler, adaboost])))\n",
        "pipelines.append(('GB-norm', Pipeline([min_max_scaler, gradient_boosting])))\n",
        "pipelines.append(('Vot-norm', Pipeline([min_max_scaler, voting])))\n",
        "\n",
        "# Executando os pipelines\n",
        "for name, model in pipelines:\n",
        "    cv_results = cross_val_score(model, X_train, y_train, cv=kfold, scoring=scoring)\n",
        "    results.append(cv_results)\n",
        "    names.append(name)\n",
        "    msg = \"%s: %.3f (%.3f)\" % (name, cv_results.mean(), cv_results.std()) # formatando para 3 casas decimais\n",
        "    print(msg)\n",
        "\n",
        "# Boxplot de comparação dos modelos\n",
        "fig = plt.figure(figsize=(25,6))\n",
        "fig.suptitle('Comparação dos Modelos - Dataset orginal, padronizado e normalizado')\n",
        "ax = fig.add_subplot(111)\n",
        "plt.boxplot(results)\n",
        "ax.set_xticklabels(names, rotation=90)\n",
        "plt.show()"
      ],
      "metadata": {
        "id": "ykpAb9HKb7da",
        "colab": {
          "base_uri": "https://localhost:8080/",
          "height": 1000
        },
        "outputId": "8dec9792-ef00-47a9-bc65-0b6d784feb2f"
      },
      "execution_count": null,
      "outputs": [
        {
          "output_type": "stream",
          "name": "stdout",
          "text": [
            "LR-orig: 0.576 (0.002)\n",
            "KNN-orig: 0.657 (0.002)\n",
            "CART-orig: 0.617 (0.003)\n",
            "NB-orig: 0.592 (0.014)\n",
            "Bag-orig: 0.652 (0.003)\n",
            "RF-orig: 0.652 (0.003)\n",
            "ET-orig: 0.629 (0.003)\n",
            "Ada-orig: 0.691 (0.003)\n",
            "GB-orig: 0.696 (0.003)\n",
            "Vot-orig: 0.584 (0.003)\n",
            "LR-padr: 0.595 (0.001)\n",
            "KNN-padr: 0.650 (0.002)\n",
            "CART-padr: 0.616 (0.003)\n",
            "NB-padr: 0.592 (0.014)\n",
            "Bag-padr: 0.652 (0.002)\n",
            "RF-padr: 0.652 (0.002)\n",
            "ET-padr: 0.629 (0.003)\n",
            "Ada-padr: 0.691 (0.003)\n",
            "GB-padr: 0.696 (0.003)\n",
            "Vot-padr: 0.594 (0.002)\n",
            "LR-norm: 0.594 (0.001)\n",
            "KNN-norm: 0.658 (0.003)\n",
            "CART-norm: 0.617 (0.002)\n",
            "NB-norm: 0.592 (0.014)\n",
            "Bag-norm: 0.652 (0.003)\n",
            "RF-norm: 0.652 (0.003)\n",
            "ET-norm: 0.629 (0.003)\n",
            "Ada-norm: 0.691 (0.003)\n",
            "GB-norm: 0.696 (0.003)\n",
            "Vot-norm: 0.593 (0.002)\n"
          ]
        },
        {
          "output_type": "display_data",
          "data": {
            "text/plain": [
              "<Figure size 2500x600 with 1 Axes>"
            ],
            "image/png": "[encoded data removed]"
          },
          "metadata": {}
        }
      ]
    },
    {
      "cell_type": "markdown",
      "source": [
        "Para chegarmos ao melhor resultado possível, realizaremos a otimização dos hiperparâmetros do GB com a biblioteca Grid Search. Nesse caso, houve acurácia ligeiramente melhor do que nas opções vistas até o momento, com destaque para a utilização dos dados normalizados (69,96%). Mostrando que a normalização pode ajudar no ajuste do modelo."
      ],
      "metadata": {
        "id": "vVq7sSUWcq2S"
      }
    },
    {
      "cell_type": "code",
      "source": [
        "#TEMPO DE EXECUÇÃO: 20 MINUTOS\n",
        "\n",
        "# Tuning do GB\n",
        "\n",
        "np.random.seed(7) # definindo uma semente global para este bloco\n",
        "\n",
        "pipelines = []\n",
        "\n",
        "# Definindo os componentes do pipeline\n",
        "gb = ('GB', GradientBoostingClassifier())\n",
        "standard_scaler = ('StandardScaler', StandardScaler())\n",
        "min_max_scaler = ('MinMaxScaler', MinMaxScaler())\n",
        "\n",
        "pipelines = []\n",
        "pipelines.append(('gb-orig', Pipeline(steps=[gb])))\n",
        "pipelines.append(('gb-padr', Pipeline(steps=[standard_scaler, gb])))\n",
        "pipelines.append(('gb-norm', Pipeline(steps=[min_max_scaler, gb])))\n",
        "\n",
        "# Definindo os parâmetros para otimização\n",
        "param_grid = {\n",
        "    'GB__n_estimators': [50, 100],\n",
        "    'GB__max_depth': [3, 5],\n",
        "    'GB__learning_rate': [0.05, 0.1]\n",
        "}\n",
        "\n",
        "# Prepara e executa o GridSearchCV\n",
        "kfold = KFold(n_splits=5, shuffle=True, random_state=seed)\n",
        "scoring = 'accuracy'\n",
        "for name, model in pipelines:\n",
        "    grid = GridSearchCV(estimator=model, param_grid=param_grid, scoring=scoring, cv=kfold)\n",
        "    grid.fit(X_train, y_train)\n",
        "    # imprime a melhor configuração\n",
        "    print(\"Sem tratamento de missings: %s - Melhor: %f usando %s\" % (name, grid.best_score_, grid.best_params_))"
      ],
      "metadata": {
        "id": "44HpdVzkczUR",
        "colab": {
          "base_uri": "https://localhost:8080/"
        },
        "outputId": "4f7080a6-3340-4861-bd00-e027da33d9ca"
      },
      "execution_count": null,
      "outputs": [
        {
          "output_type": "stream",
          "name": "stdout",
          "text": [
            "Sem tratamento de missings: gb-orig - Melhor: 0.699064 usando {'GB__learning_rate': 0.1, 'GB__max_depth': 5, 'GB__n_estimators': 100}\n",
            "Sem tratamento de missings: gb-padr - Melhor: 0.699081 usando {'GB__learning_rate': 0.1, 'GB__max_depth': 5, 'GB__n_estimators': 100}\n",
            "Sem tratamento de missings: gb-norm - Melhor: 0.699627 usando {'GB__learning_rate': 0.1, 'GB__max_depth': 5, 'GB__n_estimators': 100}\n"
          ]
        }
      ]
    },
    {
      "cell_type": "markdown",
      "metadata": {
        "id": "mE4-PIaTAfKX"
      },
      "source": [
        "## 4. Avaliação de Resultados"
      ]
    },
    {
      "cell_type": "markdown",
      "source": [
        "Considerando todos os modelos analisados até o momento, o que alcançou o melhor resultado, segundo a acurácia, foi o GB com dados normalizados. Por isso, treinaremos esse selecionado em todo o conjunto de dados de treinamento (sem validação cruzada) e faremos predições para o conjunto de dados de teste, separado justamente para podermos confirmar os resultados nesse momento. A acurácia encontrada nesse momento em dados não vistos (69,91%) foi apenas um pouco menor, do que a encontrada anteriormente com otimização dos hiperparâmetros(69,96%)."
      ],
      "metadata": {
        "id": "mQwaiML2c6x_"
      }
    },
    {
      "cell_type": "code",
      "source": [
        "# Avaliação do modelo com o conjunto de testes\n",
        "\n",
        "# Preparação do modelo\n",
        "scaler = MinMaxScaler().fit(X_train) # ajuste do scaler com o conjunto de treino\n",
        "normalizedX_train = scaler.transform(X_train)  # aplicação da normalização no conjunto de treino\n",
        "model = GradientBoostingClassifier(n_estimators=100, max_depth=5, learning_rate=0.1)  # instanciando o modelo GB com os hiperparâmetros desejados\n",
        "model.fit(normalizedX_train, y_train)\n",
        "\n",
        "# Estimativa da acurácia no conjunto de teste\n",
        "rescaledX_test = scaler.transform(X_test)  # aplicação da padronização no conjunto de teste\n",
        "predictions = model.predict(rescaledX_test)\n",
        "print(accuracy_score(y_test, predictions))"
      ],
      "metadata": {
        "id": "3_MtgMtCdAk6",
        "colab": {
          "base_uri": "https://localhost:8080/"
        },
        "outputId": "1630cd80-8a8d-44e8-b245-739792dc66cc"
      },
      "execution_count": null,
      "outputs": [
        {
          "output_type": "stream",
          "name": "stdout",
          "text": [
            "0.6991003390513276\n"
          ]
        }
      ]
    },
    {
      "cell_type": "markdown",
      "source": [
        "A próxima etapa é treinar o modelo em todo o dataset considerado, e não apenas o conjunto de treino."
      ],
      "metadata": {
        "id": "jAYQhkp3kE08"
      }
    },
    {
      "cell_type": "code",
      "source": [
        "# Preparação do modelo com TODO o dataset\n",
        "scaler = MinMaxScaler().fit(X) # ajuste do scaler com TODO o dataset\n",
        "normalizedX = scaler.transform(X) # aplicação da normalização com TODO o dataset\n",
        "model.fit(normalizedX, y)"
      ],
      "metadata": {
        "id": "2de3JnT1dGvK",
        "colab": {
          "base_uri": "https://localhost:8080/",
          "height": 75
        },
        "outputId": "13f5002a-7c3f-44c7-e449-e03f0ccb6e56"
      },
      "execution_count": null,
      "outputs": [
        {
          "output_type": "execute_result",
          "data": {
            "text/plain": [
              "GradientBoostingClassifier(max_depth=5)"
            ],
            "text/html": [
              "<style>#sk-container-id-1 {color: black;background-color: white;}#sk-container-id-1 pre{padding: 0;}#sk-container-id-1 div.sk-toggleable {background-color: white;}#sk-container-id-1 label.sk-toggleable__label {cursor: pointer;display: block;width: 100%;margin-bottom: 0;padding: 0.3em;box-sizing: border-box;text-align: center;}#sk-container-id-1 label.sk-toggleable__label-arrow:before {content: \"▸\";float: left;margin-right: 0.25em;color: #696969;}#sk-container-id-1 label.sk-toggleable__label-arrow:hover:before {color: black;}#sk-container-id-1 div.sk-estimator:hover label.sk-toggleable__label-arrow:before {color: black;}#sk-container-id-1 div.sk-toggleable__content {max-height: 0;max-width: 0;overflow: hidden;text-align: left;background-color: #f0f8ff;}#sk-container-id-1 div.sk-toggleable__content pre {margin: 0.2em;color: black;border-radius: 0.25em;background-color: #f0f8ff;}#sk-container-id-1 input.sk-toggleable__control:checked~div.sk-toggleable__content {max-height: 200px;max-width: 100%;overflow: auto;}#sk-container-id-1 input.sk-toggleable__control:checked~label.sk-toggleable__label-arrow:before {content: \"▾\";}#sk-container-id-1 div.sk-estimator input.sk-toggleable__control:checked~label.sk-toggleable__label {background-color: #d4ebff;}#sk-container-id-1 div.sk-label input.sk-toggleable__control:checked~label.sk-toggleable__label {background-color: #d4ebff;}#sk-container-id-1 input.sk-hidden--visually {border: 0;clip: rect(1px 1px 1px 1px);clip: rect(1px, 1px, 1px, 1px);height: 1px;margin: -1px;overflow: hidden;padding: 0;position: absolute;width: 1px;}#sk-container-id-1 div.sk-estimator {font-family: monospace;background-color: #f0f8ff;border: 1px dotted black;border-radius: 0.25em;box-sizing: border-box;margin-bottom: 0.5em;}#sk-container-id-1 div.sk-estimator:hover {background-color: #d4ebff;}#sk-container-id-1 div.sk-parallel-item::after {content: \"\";width: 100%;border-bottom: 1px solid gray;flex-grow: 1;}#sk-container-id-1 div.sk-label:hover label.sk-toggleable__label {background-color: #d4ebff;}#sk-container-id-1 div.sk-serial::before {content: \"\";position: absolute;border-left: 1px solid gray;box-sizing: border-box;top: 0;bottom: 0;left: 50%;z-index: 0;}#sk-container-id-1 div.sk-serial {display: flex;flex-direction: column;align-items: center;background-color: white;padding-right: 0.2em;padding-left: 0.2em;position: relative;}#sk-container-id-1 div.sk-item {position: relative;z-index: 1;}#sk-container-id-1 div.sk-parallel {display: flex;align-items: stretch;justify-content: center;background-color: white;position: relative;}#sk-container-id-1 div.sk-item::before, #sk-container-id-1 div.sk-parallel-item::before {content: \"\";position: absolute;border-left: 1px solid gray;box-sizing: border-box;top: 0;bottom: 0;left: 50%;z-index: -1;}#sk-container-id-1 div.sk-parallel-item {display: flex;flex-direction: column;z-index: 1;position: relative;background-color: white;}#sk-container-id-1 div.sk-parallel-item:first-child::after {align-self: flex-end;width: 50%;}#sk-container-id-1 div.sk-parallel-item:last-child::after {align-self: flex-start;width: 50%;}#sk-container-id-1 div.sk-parallel-item:only-child::after {width: 0;}#sk-container-id-1 div.sk-dashed-wrapped {border: 1px dashed gray;margin: 0 0.4em 0.5em 0.4em;box-sizing: border-box;padding-bottom: 0.4em;background-color: white;}#sk-container-id-1 div.sk-label label {font-family: monospace;font-weight: bold;display: inline-block;line-height: 1.2em;}#sk-container-id-1 div.sk-label-container {text-align: center;}#sk-container-id-1 div.sk-container {/* jupyter's `normalize.less` sets `[hidden] { display: none; }` but bootstrap.min.css set `[hidden] { display: none !important; }` so we also need the `!important` here to be able to override the default hidden behavior on the sphinx rendered scikit-learn.org. See: https://github.com/scikit-learn/scikit-learn/issues/21755 */display: inline-block !important;position: relative;}#sk-container-id-1 div.sk-text-repr-fallback {display: none;}</style><div id=\"sk-container-id-1\" class=\"sk-top-container\"><div class=\"sk-text-repr-fallback\"><pre>GradientBoostingClassifier(max_depth=5)</pre><b>In a Jupyter environment, please rerun this cell to show the HTML representation or trust the notebook. <br />On GitHub, the HTML representation is unable to render, please try loading this page with nbviewer.org.</b></div><div class=\"sk-container\" hidden><div class=\"sk-item\"><div class=\"sk-estimator sk-toggleable\"><input class=\"sk-toggleable__control sk-hidden--visually\" id=\"sk-estimator-id-1\" type=\"checkbox\" checked><label for=\"sk-estimator-id-1\" class=\"sk-toggleable__label sk-toggleable__label-arrow\">GradientBoostingClassifier</label><div class=\"sk-toggleable__content\"><pre>GradientBoostingClassifier(max_depth=5)</pre></div></div></div></div></div>"
            ]
          },
          "metadata": {},
          "execution_count": 21
        }
      ]
    },
    {
      "cell_type": "markdown",
      "source": [
        "Como teste, colocaremos dados novos para fazermos as predições e analisarmos os resultados. Foram selecionadas duas CNAES de linhas aleatórias e acrescentamos dados de três pessoas que trabalham em cada uma dessas atividades, com 34 anos de idade e cuja única diferenciação foi a remuneração média."
      ],
      "metadata": {
        "id": "GTh8byJKdcy9"
      }
    },
    {
      "cell_type": "code",
      "source": [
        "cnae1 = rais2022.iloc[50]\n",
        "cnae2 = rais2022.iloc[100]\n",
        "print(cnae1)\n",
        "print(cnae2)\n",
        "\n",
        "#cnae1 = 56201 = Serviços de catering, bufê e outros serviços de comida preparada\n",
        "#cnae2 = 45307 = Comércio de peças e acessórios para veículos automotores"
      ],
      "metadata": {
        "colab": {
          "base_uri": "https://localhost:8080/"
        },
        "id": "OpaPH8WnGOi9",
        "outputId": "c1147f2c-cfd7-40da-f6f6-9de2ebd44a5a"
      },
      "execution_count": 29,
      "outputs": [
        {
          "output_type": "stream",
          "name": "stdout",
          "text": [
            "CNAE 2.0 Classe            56201.00\n",
            "Escolaridade após 2005         1.00\n",
            "Idade                         41.00\n",
            "Raça Cor                       8.00\n",
            "Sexo Trabalhador               1.00\n",
            "valor_remuneracao_media      492.01\n",
            "Name: 385, dtype: float64\n",
            "CNAE 2.0 Classe            45307.00\n",
            "Escolaridade após 2005         1.00\n",
            "Idade                         28.00\n",
            "Raça Cor                       9.00\n",
            "Sexo Trabalhador               1.00\n",
            "valor_remuneracao_media     2771.89\n",
            "Name: 842, dtype: float64\n"
          ]
        }
      ]
    },
    {
      "cell_type": "code",
      "source": [
        "# Novos dados - não sabemos a classe!\n",
        "data = {'CNAE 2.0 Classe':  [56201, 56201, 56201, 45307, 45307, 45307],\n",
        "        'Idade': [34, 34, 34, 34, 34, 34],\n",
        "        'valor_remuneracao_media': [9000, 6000, 3000, 9000, 6000, 3000],\n",
        "        }\n",
        "\n",
        "atributos = ['CNAE 2.0 Classe', 'Idade', 'valor_remuneracao_media']\n",
        "entrada = pd.DataFrame(data, columns=atributos)\n",
        "\n",
        "array_entrada = entrada.values\n",
        "X_entrada = array_entrada[:,0:8].astype(float)\n",
        "\n",
        "# Padronização nos dados de entrada usando o scaler utilizado em X\n",
        "rescaledEntradaX = scaler.transform(X_entrada)\n",
        "print(rescaledEntradaX)"
      ],
      "metadata": {
        "id": "wGC9Lv3qdiCZ",
        "colab": {
          "base_uri": "https://localhost:8080/"
        },
        "outputId": "ef360d4e-7f71-41a3-9931-0f4df968046c"
      },
      "execution_count": 30,
      "outputs": [
        {
          "output_type": "stream",
          "name": "stdout",
          "text": [
            "[[0.46026147 0.25641026 0.01297578]\n",
            " [0.46026147 0.25641026 0.00865052]\n",
            " [0.46026147 0.25641026 0.00432526]\n",
            " [0.00813447 0.25641026 0.01297578]\n",
            " [0.00813447 0.25641026 0.00865052]\n",
            " [0.00813447 0.25641026 0.00432526]]\n"
          ]
        }
      ]
    },
    {
      "cell_type": "code",
      "source": [
        "# Predição de classes dos dados de entrada\n",
        "saidas = model.predict(rescaledEntradaX)\n",
        "print(saidas)"
      ],
      "metadata": {
        "id": "ZFW1Ht3tdnHr",
        "colab": {
          "base_uri": "https://localhost:8080/"
        },
        "outputId": "0041a6d2-966c-4338-ac2f-a07bfd3265c0"
      },
      "execution_count": 31,
      "outputs": [
        {
          "output_type": "stream",
          "name": "stdout",
          "text": [
            "[2 2 2 1 1 1]\n"
          ]
        }
      ]
    },
    {
      "cell_type": "markdown",
      "metadata": {
        "id": "LoLQBjKl9JVD"
      },
      "source": [
        "A resposta foi majoritariamente **feminina** para os dados de *Serviços de catering, bufê e outros serviços de comida preparada* e majoritariamente **masculina** para os dados de *Comércio de peças e acessórios para veículos automotores*, mostrando que essas atividades apresentam tendência de concentração de gênero, uma confirmação da nossa hipótese inicial.\n"
      ]
    },
    {
      "cell_type": "markdown",
      "source": [
        "O fato do modelo conseguir classificar o gênero com grande grau de certeza, quase 70%, também confirma que há uma diferenciação de gênero no mercado de trabalho. Deve-se considerar que o resultado corresponde apenas a um estado (MS) e setor (comércio, serviços e turismo), portanto o estudo pode ser estrapolado para o nível nacional e outras categorias econômicas para confirmar se essas características do mercado de trabalho serão mantidas."
      ],
      "metadata": {
        "id": "bPXrZXmMtWgz"
      }
    }
  ],
  "metadata": {
    "colab": {
      "provenance": [],
      "toc_visible": true,
      "include_colab_link": true
    },
    "kernelspec": {
      "display_name": "Python 3",
      "name": "python3"
    }
  },
  "nbformat": 4,
  "nbformat_minor": 0
}